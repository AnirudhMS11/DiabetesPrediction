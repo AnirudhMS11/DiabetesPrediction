{
 "cells": [
  {
   "cell_type": "code",
   "execution_count": 1,
   "id": "f58e28b5",
   "metadata": {
    "_cell_guid": "b1076dfc-b9ad-4769-8c92-a6c4dae69d19",
    "_uuid": "8f2839f25d086af736a60e9eeb907d3b93b6e0e5",
    "execution": {
     "iopub.execute_input": "2025-05-01T05:27:00.457211Z",
     "iopub.status.busy": "2025-05-01T05:27:00.456798Z",
     "iopub.status.idle": "2025-05-01T05:27:01.254209Z",
     "shell.execute_reply": "2025-05-01T05:27:01.253009Z"
    },
    "papermill": {
     "duration": 0.818098,
     "end_time": "2025-05-01T05:27:01.255875",
     "exception": false,
     "start_time": "2025-05-01T05:27:00.437777",
     "status": "completed"
    },
    "tags": []
   },
   "outputs": [
    {
     "name": "stdout",
     "output_type": "stream",
     "text": [
      "/kaggle/input/diabetes-prediction-dataset/diabetes_prediction_dataset.csv\n"
     ]
    }
   ],
   "source": [
    "# This Python 3 environment comes with many helpful analytics libraries installed\n",
    "# It is defined by the kaggle/python Docker image: https://github.com/kaggle/docker-python\n",
    "# For example, here's several helpful packages to load\n",
    "\n",
    "import numpy as np # linear algebra\n",
    "import pandas as pd # data processing, CSV file I/O (e.g. pd.read_csv)\n",
    "\n",
    "# Input data files are available in the read-only \"../input/\" directory\n",
    "# For example, running this (by clicking run or pressing Shift+Enter) will list all files under the input directory\n",
    "\n",
    "import os\n",
    "for dirname, _, filenames in os.walk('/kaggle/input'):\n",
    "    for filename in filenames:\n",
    "        print(os.path.join(dirname, filename))\n",
    "\n",
    "# You can write up to 20GB to the current directory (/kaggle/working/) that gets preserved as output when you create a version using \"Save & Run All\" \n",
    "# You can also write temporary files to /kaggle/temp/, but they won't be saved outside of the current session"
   ]
  },
  {
   "cell_type": "code",
   "execution_count": 2,
   "id": "b5cb82bd",
   "metadata": {
    "execution": {
     "iopub.execute_input": "2025-05-01T05:27:01.290396Z",
     "iopub.status.busy": "2025-05-01T05:27:01.289937Z",
     "iopub.status.idle": "2025-05-01T05:27:01.463798Z",
     "shell.execute_reply": "2025-05-01T05:27:01.463053Z"
    },
    "papermill": {
     "duration": 0.192762,
     "end_time": "2025-05-01T05:27:01.465522",
     "exception": false,
     "start_time": "2025-05-01T05:27:01.272760",
     "status": "completed"
    },
    "tags": []
   },
   "outputs": [],
   "source": [
    "d5 = pd.read_csv(\"/kaggle/input/diabetes-prediction-dataset/diabetes_prediction_dataset.csv\")"
   ]
  },
  {
   "cell_type": "code",
   "execution_count": 3,
   "id": "7f890094",
   "metadata": {
    "execution": {
     "iopub.execute_input": "2025-05-01T05:27:01.499725Z",
     "iopub.status.busy": "2025-05-01T05:27:01.499398Z",
     "iopub.status.idle": "2025-05-01T05:27:01.505247Z",
     "shell.execute_reply": "2025-05-01T05:27:01.504314Z"
    },
    "papermill": {
     "duration": 0.024364,
     "end_time": "2025-05-01T05:27:01.506778",
     "exception": false,
     "start_time": "2025-05-01T05:27:01.482414",
     "status": "completed"
    },
    "tags": []
   },
   "outputs": [
    {
     "data": {
      "text/plain": [
       "(100000, 9)"
      ]
     },
     "execution_count": 3,
     "metadata": {},
     "output_type": "execute_result"
    }
   ],
   "source": [
    "d5.shape"
   ]
  },
  {
   "cell_type": "code",
   "execution_count": 4,
   "id": "00e9eeb8",
   "metadata": {
    "execution": {
     "iopub.execute_input": "2025-05-01T05:27:01.540733Z",
     "iopub.status.busy": "2025-05-01T05:27:01.540420Z",
     "iopub.status.idle": "2025-05-01T05:27:01.564429Z",
     "shell.execute_reply": "2025-05-01T05:27:01.563483Z"
    },
    "papermill": {
     "duration": 0.042622,
     "end_time": "2025-05-01T05:27:01.565951",
     "exception": false,
     "start_time": "2025-05-01T05:27:01.523329",
     "status": "completed"
    },
    "tags": []
   },
   "outputs": [
    {
     "data": {
      "text/plain": [
       "gender                 0\n",
       "age                    0\n",
       "hypertension           0\n",
       "heart_disease          0\n",
       "smoking_history        0\n",
       "bmi                    0\n",
       "HbA1c_level            0\n",
       "blood_glucose_level    0\n",
       "diabetes               0\n",
       "dtype: int64"
      ]
     },
     "execution_count": 4,
     "metadata": {},
     "output_type": "execute_result"
    }
   ],
   "source": [
    "d5.isnull().sum()"
   ]
  },
  {
   "cell_type": "code",
   "execution_count": 5,
   "id": "f7d4dd7f",
   "metadata": {
    "execution": {
     "iopub.execute_input": "2025-05-01T05:27:01.600658Z",
     "iopub.status.busy": "2025-05-01T05:27:01.600317Z",
     "iopub.status.idle": "2025-05-01T05:27:01.657896Z",
     "shell.execute_reply": "2025-05-01T05:27:01.656929Z"
    },
    "papermill": {
     "duration": 0.076658,
     "end_time": "2025-05-01T05:27:01.659477",
     "exception": false,
     "start_time": "2025-05-01T05:27:01.582819",
     "status": "completed"
    },
    "tags": []
   },
   "outputs": [
    {
     "data": {
      "text/html": [
       "<div>\n",
       "<style scoped>\n",
       "    .dataframe tbody tr th:only-of-type {\n",
       "        vertical-align: middle;\n",
       "    }\n",
       "\n",
       "    .dataframe tbody tr th {\n",
       "        vertical-align: top;\n",
       "    }\n",
       "\n",
       "    .dataframe thead th {\n",
       "        text-align: right;\n",
       "    }\n",
       "</style>\n",
       "<table border=\"1\" class=\"dataframe\">\n",
       "  <thead>\n",
       "    <tr style=\"text-align: right;\">\n",
       "      <th></th>\n",
       "      <th>age</th>\n",
       "      <th>hypertension</th>\n",
       "      <th>heart_disease</th>\n",
       "      <th>bmi</th>\n",
       "      <th>HbA1c_level</th>\n",
       "      <th>blood_glucose_level</th>\n",
       "      <th>diabetes</th>\n",
       "    </tr>\n",
       "  </thead>\n",
       "  <tbody>\n",
       "    <tr>\n",
       "      <th>count</th>\n",
       "      <td>100000.000000</td>\n",
       "      <td>100000.00000</td>\n",
       "      <td>100000.000000</td>\n",
       "      <td>100000.000000</td>\n",
       "      <td>100000.000000</td>\n",
       "      <td>100000.000000</td>\n",
       "      <td>100000.000000</td>\n",
       "    </tr>\n",
       "    <tr>\n",
       "      <th>mean</th>\n",
       "      <td>41.885856</td>\n",
       "      <td>0.07485</td>\n",
       "      <td>0.039420</td>\n",
       "      <td>27.320767</td>\n",
       "      <td>5.527507</td>\n",
       "      <td>138.058060</td>\n",
       "      <td>0.085000</td>\n",
       "    </tr>\n",
       "    <tr>\n",
       "      <th>std</th>\n",
       "      <td>22.516840</td>\n",
       "      <td>0.26315</td>\n",
       "      <td>0.194593</td>\n",
       "      <td>6.636783</td>\n",
       "      <td>1.070672</td>\n",
       "      <td>40.708136</td>\n",
       "      <td>0.278883</td>\n",
       "    </tr>\n",
       "    <tr>\n",
       "      <th>min</th>\n",
       "      <td>0.080000</td>\n",
       "      <td>0.00000</td>\n",
       "      <td>0.000000</td>\n",
       "      <td>10.010000</td>\n",
       "      <td>3.500000</td>\n",
       "      <td>80.000000</td>\n",
       "      <td>0.000000</td>\n",
       "    </tr>\n",
       "    <tr>\n",
       "      <th>25%</th>\n",
       "      <td>24.000000</td>\n",
       "      <td>0.00000</td>\n",
       "      <td>0.000000</td>\n",
       "      <td>23.630000</td>\n",
       "      <td>4.800000</td>\n",
       "      <td>100.000000</td>\n",
       "      <td>0.000000</td>\n",
       "    </tr>\n",
       "    <tr>\n",
       "      <th>50%</th>\n",
       "      <td>43.000000</td>\n",
       "      <td>0.00000</td>\n",
       "      <td>0.000000</td>\n",
       "      <td>27.320000</td>\n",
       "      <td>5.800000</td>\n",
       "      <td>140.000000</td>\n",
       "      <td>0.000000</td>\n",
       "    </tr>\n",
       "    <tr>\n",
       "      <th>75%</th>\n",
       "      <td>60.000000</td>\n",
       "      <td>0.00000</td>\n",
       "      <td>0.000000</td>\n",
       "      <td>29.580000</td>\n",
       "      <td>6.200000</td>\n",
       "      <td>159.000000</td>\n",
       "      <td>0.000000</td>\n",
       "    </tr>\n",
       "    <tr>\n",
       "      <th>max</th>\n",
       "      <td>80.000000</td>\n",
       "      <td>1.00000</td>\n",
       "      <td>1.000000</td>\n",
       "      <td>95.690000</td>\n",
       "      <td>9.000000</td>\n",
       "      <td>300.000000</td>\n",
       "      <td>1.000000</td>\n",
       "    </tr>\n",
       "  </tbody>\n",
       "</table>\n",
       "</div>"
      ],
      "text/plain": [
       "                 age  hypertension  heart_disease            bmi  \\\n",
       "count  100000.000000  100000.00000  100000.000000  100000.000000   \n",
       "mean       41.885856       0.07485       0.039420      27.320767   \n",
       "std        22.516840       0.26315       0.194593       6.636783   \n",
       "min         0.080000       0.00000       0.000000      10.010000   \n",
       "25%        24.000000       0.00000       0.000000      23.630000   \n",
       "50%        43.000000       0.00000       0.000000      27.320000   \n",
       "75%        60.000000       0.00000       0.000000      29.580000   \n",
       "max        80.000000       1.00000       1.000000      95.690000   \n",
       "\n",
       "         HbA1c_level  blood_glucose_level       diabetes  \n",
       "count  100000.000000        100000.000000  100000.000000  \n",
       "mean        5.527507           138.058060       0.085000  \n",
       "std         1.070672            40.708136       0.278883  \n",
       "min         3.500000            80.000000       0.000000  \n",
       "25%         4.800000           100.000000       0.000000  \n",
       "50%         5.800000           140.000000       0.000000  \n",
       "75%         6.200000           159.000000       0.000000  \n",
       "max         9.000000           300.000000       1.000000  "
      ]
     },
     "execution_count": 5,
     "metadata": {},
     "output_type": "execute_result"
    }
   ],
   "source": [
    "d5.describe()"
   ]
  },
  {
   "cell_type": "code",
   "execution_count": 6,
   "id": "e1feb674",
   "metadata": {
    "execution": {
     "iopub.execute_input": "2025-05-01T05:27:01.693491Z",
     "iopub.status.busy": "2025-05-01T05:27:01.693151Z",
     "iopub.status.idle": "2025-05-01T05:27:01.726158Z",
     "shell.execute_reply": "2025-05-01T05:27:01.725158Z"
    },
    "papermill": {
     "duration": 0.051578,
     "end_time": "2025-05-01T05:27:01.727645",
     "exception": false,
     "start_time": "2025-05-01T05:27:01.676067",
     "status": "completed"
    },
    "tags": []
   },
   "outputs": [
    {
     "data": {
      "text/plain": [
       "3854"
      ]
     },
     "execution_count": 6,
     "metadata": {},
     "output_type": "execute_result"
    }
   ],
   "source": [
    "d5.duplicated().sum()"
   ]
  },
  {
   "cell_type": "code",
   "execution_count": 7,
   "id": "228bc948",
   "metadata": {
    "execution": {
     "iopub.execute_input": "2025-05-01T05:27:01.762053Z",
     "iopub.status.busy": "2025-05-01T05:27:01.761689Z",
     "iopub.status.idle": "2025-05-01T05:27:01.795268Z",
     "shell.execute_reply": "2025-05-01T05:27:01.794268Z"
    },
    "papermill": {
     "duration": 0.052669,
     "end_time": "2025-05-01T05:27:01.797072",
     "exception": false,
     "start_time": "2025-05-01T05:27:01.744403",
     "status": "completed"
    },
    "tags": []
   },
   "outputs": [],
   "source": [
    "d5 = d5.drop_duplicates()"
   ]
  },
  {
   "cell_type": "code",
   "execution_count": 8,
   "id": "e0f61416",
   "metadata": {
    "execution": {
     "iopub.execute_input": "2025-05-01T05:27:01.831379Z",
     "iopub.status.busy": "2025-05-01T05:27:01.831047Z",
     "iopub.status.idle": "2025-05-01T05:27:01.836142Z",
     "shell.execute_reply": "2025-05-01T05:27:01.835293Z"
    },
    "papermill": {
     "duration": 0.023587,
     "end_time": "2025-05-01T05:27:01.837522",
     "exception": false,
     "start_time": "2025-05-01T05:27:01.813935",
     "status": "completed"
    },
    "tags": []
   },
   "outputs": [
    {
     "data": {
      "text/plain": [
       "(96146, 9)"
      ]
     },
     "execution_count": 8,
     "metadata": {},
     "output_type": "execute_result"
    }
   ],
   "source": [
    "d5.shape"
   ]
  },
  {
   "cell_type": "code",
   "execution_count": 9,
   "id": "e756f829",
   "metadata": {
    "execution": {
     "iopub.execute_input": "2025-05-01T05:27:01.871503Z",
     "iopub.status.busy": "2025-05-01T05:27:01.871201Z",
     "iopub.status.idle": "2025-05-01T05:27:01.882880Z",
     "shell.execute_reply": "2025-05-01T05:27:01.881984Z"
    },
    "papermill": {
     "duration": 0.030289,
     "end_time": "2025-05-01T05:27:01.884298",
     "exception": false,
     "start_time": "2025-05-01T05:27:01.854009",
     "status": "completed"
    },
    "tags": []
   },
   "outputs": [
    {
     "data": {
      "text/html": [
       "<div>\n",
       "<style scoped>\n",
       "    .dataframe tbody tr th:only-of-type {\n",
       "        vertical-align: middle;\n",
       "    }\n",
       "\n",
       "    .dataframe tbody tr th {\n",
       "        vertical-align: top;\n",
       "    }\n",
       "\n",
       "    .dataframe thead th {\n",
       "        text-align: right;\n",
       "    }\n",
       "</style>\n",
       "<table border=\"1\" class=\"dataframe\">\n",
       "  <thead>\n",
       "    <tr style=\"text-align: right;\">\n",
       "      <th></th>\n",
       "      <th>gender</th>\n",
       "      <th>age</th>\n",
       "      <th>hypertension</th>\n",
       "      <th>heart_disease</th>\n",
       "      <th>smoking_history</th>\n",
       "      <th>bmi</th>\n",
       "      <th>HbA1c_level</th>\n",
       "      <th>blood_glucose_level</th>\n",
       "      <th>diabetes</th>\n",
       "    </tr>\n",
       "  </thead>\n",
       "  <tbody>\n",
       "    <tr>\n",
       "      <th>0</th>\n",
       "      <td>Female</td>\n",
       "      <td>80.0</td>\n",
       "      <td>0</td>\n",
       "      <td>1</td>\n",
       "      <td>never</td>\n",
       "      <td>25.19</td>\n",
       "      <td>6.6</td>\n",
       "      <td>140</td>\n",
       "      <td>0</td>\n",
       "    </tr>\n",
       "    <tr>\n",
       "      <th>1</th>\n",
       "      <td>Female</td>\n",
       "      <td>54.0</td>\n",
       "      <td>0</td>\n",
       "      <td>0</td>\n",
       "      <td>No Info</td>\n",
       "      <td>27.32</td>\n",
       "      <td>6.6</td>\n",
       "      <td>80</td>\n",
       "      <td>0</td>\n",
       "    </tr>\n",
       "    <tr>\n",
       "      <th>2</th>\n",
       "      <td>Male</td>\n",
       "      <td>28.0</td>\n",
       "      <td>0</td>\n",
       "      <td>0</td>\n",
       "      <td>never</td>\n",
       "      <td>27.32</td>\n",
       "      <td>5.7</td>\n",
       "      <td>158</td>\n",
       "      <td>0</td>\n",
       "    </tr>\n",
       "    <tr>\n",
       "      <th>3</th>\n",
       "      <td>Female</td>\n",
       "      <td>36.0</td>\n",
       "      <td>0</td>\n",
       "      <td>0</td>\n",
       "      <td>current</td>\n",
       "      <td>23.45</td>\n",
       "      <td>5.0</td>\n",
       "      <td>155</td>\n",
       "      <td>0</td>\n",
       "    </tr>\n",
       "    <tr>\n",
       "      <th>4</th>\n",
       "      <td>Male</td>\n",
       "      <td>76.0</td>\n",
       "      <td>1</td>\n",
       "      <td>1</td>\n",
       "      <td>current</td>\n",
       "      <td>20.14</td>\n",
       "      <td>4.8</td>\n",
       "      <td>155</td>\n",
       "      <td>0</td>\n",
       "    </tr>\n",
       "  </tbody>\n",
       "</table>\n",
       "</div>"
      ],
      "text/plain": [
       "   gender   age  hypertension  heart_disease smoking_history    bmi  \\\n",
       "0  Female  80.0             0              1           never  25.19   \n",
       "1  Female  54.0             0              0         No Info  27.32   \n",
       "2    Male  28.0             0              0           never  27.32   \n",
       "3  Female  36.0             0              0         current  23.45   \n",
       "4    Male  76.0             1              1         current  20.14   \n",
       "\n",
       "   HbA1c_level  blood_glucose_level  diabetes  \n",
       "0          6.6                  140         0  \n",
       "1          6.6                   80         0  \n",
       "2          5.7                  158         0  \n",
       "3          5.0                  155         0  \n",
       "4          4.8                  155         0  "
      ]
     },
     "execution_count": 9,
     "metadata": {},
     "output_type": "execute_result"
    }
   ],
   "source": [
    "d5.head(5)"
   ]
  },
  {
   "cell_type": "code",
   "execution_count": 10,
   "id": "3f01b151",
   "metadata": {
    "execution": {
     "iopub.execute_input": "2025-05-01T05:27:01.919187Z",
     "iopub.status.busy": "2025-05-01T05:27:01.918804Z",
     "iopub.status.idle": "2025-05-01T05:27:01.948536Z",
     "shell.execute_reply": "2025-05-01T05:27:01.947498Z"
    },
    "papermill": {
     "duration": 0.048998,
     "end_time": "2025-05-01T05:27:01.950250",
     "exception": false,
     "start_time": "2025-05-01T05:27:01.901252",
     "status": "completed"
    },
    "tags": []
   },
   "outputs": [
    {
     "name": "stdout",
     "output_type": "stream",
     "text": [
      "<class 'pandas.core.frame.DataFrame'>\n",
      "Index: 96146 entries, 0 to 99999\n",
      "Data columns (total 9 columns):\n",
      " #   Column               Non-Null Count  Dtype  \n",
      "---  ------               --------------  -----  \n",
      " 0   gender               96146 non-null  object \n",
      " 1   age                  96146 non-null  float64\n",
      " 2   hypertension         96146 non-null  int64  \n",
      " 3   heart_disease        96146 non-null  int64  \n",
      " 4   smoking_history      96146 non-null  object \n",
      " 5   bmi                  96146 non-null  float64\n",
      " 6   HbA1c_level          96146 non-null  float64\n",
      " 7   blood_glucose_level  96146 non-null  int64  \n",
      " 8   diabetes             96146 non-null  int64  \n",
      "dtypes: float64(3), int64(4), object(2)\n",
      "memory usage: 7.3+ MB\n"
     ]
    }
   ],
   "source": [
    "d5.info()"
   ]
  },
  {
   "cell_type": "code",
   "execution_count": 11,
   "id": "30ef1dba",
   "metadata": {
    "execution": {
     "iopub.execute_input": "2025-05-01T05:27:01.985440Z",
     "iopub.status.busy": "2025-05-01T05:27:01.985124Z",
     "iopub.status.idle": "2025-05-01T05:27:01.998451Z",
     "shell.execute_reply": "2025-05-01T05:27:01.997411Z"
    },
    "papermill": {
     "duration": 0.032935,
     "end_time": "2025-05-01T05:27:02.000184",
     "exception": false,
     "start_time": "2025-05-01T05:27:01.967249",
     "status": "completed"
    },
    "tags": []
   },
   "outputs": [
    {
     "data": {
      "text/plain": [
       "{'Female', 'Male', 'Other'}"
      ]
     },
     "execution_count": 11,
     "metadata": {},
     "output_type": "execute_result"
    }
   ],
   "source": [
    "set(d5.gender)"
   ]
  },
  {
   "cell_type": "code",
   "execution_count": 12,
   "id": "32f2c6c8",
   "metadata": {
    "execution": {
     "iopub.execute_input": "2025-05-01T05:27:02.035444Z",
     "iopub.status.busy": "2025-05-01T05:27:02.035122Z",
     "iopub.status.idle": "2025-05-01T05:27:02.048067Z",
     "shell.execute_reply": "2025-05-01T05:27:02.047141Z"
    },
    "papermill": {
     "duration": 0.032162,
     "end_time": "2025-05-01T05:27:02.049440",
     "exception": false,
     "start_time": "2025-05-01T05:27:02.017278",
     "status": "completed"
    },
    "tags": []
   },
   "outputs": [
    {
     "data": {
      "text/plain": [
       "{'No Info', 'current', 'ever', 'former', 'never', 'not current'}"
      ]
     },
     "execution_count": 12,
     "metadata": {},
     "output_type": "execute_result"
    }
   ],
   "source": [
    "set(d5.smoking_history)"
   ]
  },
  {
   "cell_type": "code",
   "execution_count": 13,
   "id": "2088f524",
   "metadata": {
    "execution": {
     "iopub.execute_input": "2025-05-01T05:27:02.085055Z",
     "iopub.status.busy": "2025-05-01T05:27:02.084665Z",
     "iopub.status.idle": "2025-05-01T05:27:02.128584Z",
     "shell.execute_reply": "2025-05-01T05:27:02.127660Z"
    },
    "papermill": {
     "duration": 0.063322,
     "end_time": "2025-05-01T05:27:02.130101",
     "exception": false,
     "start_time": "2025-05-01T05:27:02.066779",
     "status": "completed"
    },
    "tags": []
   },
   "outputs": [
    {
     "data": {
      "text/html": [
       "<div>\n",
       "<style scoped>\n",
       "    .dataframe tbody tr th:only-of-type {\n",
       "        vertical-align: middle;\n",
       "    }\n",
       "\n",
       "    .dataframe tbody tr th {\n",
       "        vertical-align: top;\n",
       "    }\n",
       "\n",
       "    .dataframe thead th {\n",
       "        text-align: right;\n",
       "    }\n",
       "</style>\n",
       "<table border=\"1\" class=\"dataframe\">\n",
       "  <thead>\n",
       "    <tr style=\"text-align: right;\">\n",
       "      <th></th>\n",
       "      <th>age</th>\n",
       "      <th>hypertension</th>\n",
       "      <th>heart_disease</th>\n",
       "      <th>bmi</th>\n",
       "      <th>HbA1c_level</th>\n",
       "      <th>blood_glucose_level</th>\n",
       "      <th>diabetes</th>\n",
       "    </tr>\n",
       "  </thead>\n",
       "  <tbody>\n",
       "    <tr>\n",
       "      <th>count</th>\n",
       "      <td>96146.000000</td>\n",
       "      <td>96146.000000</td>\n",
       "      <td>96146.000000</td>\n",
       "      <td>96146.000000</td>\n",
       "      <td>96146.000000</td>\n",
       "      <td>96146.000000</td>\n",
       "      <td>96146.000000</td>\n",
       "    </tr>\n",
       "    <tr>\n",
       "      <th>mean</th>\n",
       "      <td>41.794326</td>\n",
       "      <td>0.077601</td>\n",
       "      <td>0.040803</td>\n",
       "      <td>27.321461</td>\n",
       "      <td>5.532609</td>\n",
       "      <td>138.218231</td>\n",
       "      <td>0.088220</td>\n",
       "    </tr>\n",
       "    <tr>\n",
       "      <th>std</th>\n",
       "      <td>22.462948</td>\n",
       "      <td>0.267544</td>\n",
       "      <td>0.197833</td>\n",
       "      <td>6.767716</td>\n",
       "      <td>1.073232</td>\n",
       "      <td>40.909771</td>\n",
       "      <td>0.283616</td>\n",
       "    </tr>\n",
       "    <tr>\n",
       "      <th>min</th>\n",
       "      <td>0.080000</td>\n",
       "      <td>0.000000</td>\n",
       "      <td>0.000000</td>\n",
       "      <td>10.010000</td>\n",
       "      <td>3.500000</td>\n",
       "      <td>80.000000</td>\n",
       "      <td>0.000000</td>\n",
       "    </tr>\n",
       "    <tr>\n",
       "      <th>25%</th>\n",
       "      <td>24.000000</td>\n",
       "      <td>0.000000</td>\n",
       "      <td>0.000000</td>\n",
       "      <td>23.400000</td>\n",
       "      <td>4.800000</td>\n",
       "      <td>100.000000</td>\n",
       "      <td>0.000000</td>\n",
       "    </tr>\n",
       "    <tr>\n",
       "      <th>50%</th>\n",
       "      <td>43.000000</td>\n",
       "      <td>0.000000</td>\n",
       "      <td>0.000000</td>\n",
       "      <td>27.320000</td>\n",
       "      <td>5.800000</td>\n",
       "      <td>140.000000</td>\n",
       "      <td>0.000000</td>\n",
       "    </tr>\n",
       "    <tr>\n",
       "      <th>75%</th>\n",
       "      <td>59.000000</td>\n",
       "      <td>0.000000</td>\n",
       "      <td>0.000000</td>\n",
       "      <td>29.860000</td>\n",
       "      <td>6.200000</td>\n",
       "      <td>159.000000</td>\n",
       "      <td>0.000000</td>\n",
       "    </tr>\n",
       "    <tr>\n",
       "      <th>max</th>\n",
       "      <td>80.000000</td>\n",
       "      <td>1.000000</td>\n",
       "      <td>1.000000</td>\n",
       "      <td>95.690000</td>\n",
       "      <td>9.000000</td>\n",
       "      <td>300.000000</td>\n",
       "      <td>1.000000</td>\n",
       "    </tr>\n",
       "  </tbody>\n",
       "</table>\n",
       "</div>"
      ],
      "text/plain": [
       "                age  hypertension  heart_disease           bmi   HbA1c_level  \\\n",
       "count  96146.000000  96146.000000   96146.000000  96146.000000  96146.000000   \n",
       "mean      41.794326      0.077601       0.040803     27.321461      5.532609   \n",
       "std       22.462948      0.267544       0.197833      6.767716      1.073232   \n",
       "min        0.080000      0.000000       0.000000     10.010000      3.500000   \n",
       "25%       24.000000      0.000000       0.000000     23.400000      4.800000   \n",
       "50%       43.000000      0.000000       0.000000     27.320000      5.800000   \n",
       "75%       59.000000      0.000000       0.000000     29.860000      6.200000   \n",
       "max       80.000000      1.000000       1.000000     95.690000      9.000000   \n",
       "\n",
       "       blood_glucose_level      diabetes  \n",
       "count         96146.000000  96146.000000  \n",
       "mean            138.218231      0.088220  \n",
       "std              40.909771      0.283616  \n",
       "min              80.000000      0.000000  \n",
       "25%             100.000000      0.000000  \n",
       "50%             140.000000      0.000000  \n",
       "75%             159.000000      0.000000  \n",
       "max             300.000000      1.000000  "
      ]
     },
     "execution_count": 13,
     "metadata": {},
     "output_type": "execute_result"
    }
   ],
   "source": [
    "d5.describe()"
   ]
  },
  {
   "cell_type": "code",
   "execution_count": 14,
   "id": "9117632c",
   "metadata": {
    "execution": {
     "iopub.execute_input": "2025-05-01T05:27:02.165667Z",
     "iopub.status.busy": "2025-05-01T05:27:02.165330Z",
     "iopub.status.idle": "2025-05-01T05:27:02.180379Z",
     "shell.execute_reply": "2025-05-01T05:27:02.179404Z"
    },
    "papermill": {
     "duration": 0.034367,
     "end_time": "2025-05-01T05:27:02.181820",
     "exception": false,
     "start_time": "2025-05-01T05:27:02.147453",
     "status": "completed"
    },
    "tags": []
   },
   "outputs": [],
   "source": [
    "d6 = d5[~(d5['smoking_history']=='No Info')]"
   ]
  },
  {
   "cell_type": "code",
   "execution_count": 15,
   "id": "ac3010cd",
   "metadata": {
    "execution": {
     "iopub.execute_input": "2025-05-01T05:27:02.217890Z",
     "iopub.status.busy": "2025-05-01T05:27:02.217500Z",
     "iopub.status.idle": "2025-05-01T05:27:02.231537Z",
     "shell.execute_reply": "2025-05-01T05:27:02.230627Z"
    },
    "papermill": {
     "duration": 0.033831,
     "end_time": "2025-05-01T05:27:02.233239",
     "exception": false,
     "start_time": "2025-05-01T05:27:02.199408",
     "status": "completed"
    },
    "tags": []
   },
   "outputs": [
    {
     "data": {
      "text/html": [
       "<div>\n",
       "<style scoped>\n",
       "    .dataframe tbody tr th:only-of-type {\n",
       "        vertical-align: middle;\n",
       "    }\n",
       "\n",
       "    .dataframe tbody tr th {\n",
       "        vertical-align: top;\n",
       "    }\n",
       "\n",
       "    .dataframe thead th {\n",
       "        text-align: right;\n",
       "    }\n",
       "</style>\n",
       "<table border=\"1\" class=\"dataframe\">\n",
       "  <thead>\n",
       "    <tr style=\"text-align: right;\">\n",
       "      <th></th>\n",
       "      <th>gender</th>\n",
       "      <th>age</th>\n",
       "      <th>hypertension</th>\n",
       "      <th>heart_disease</th>\n",
       "      <th>smoking_history</th>\n",
       "      <th>bmi</th>\n",
       "      <th>HbA1c_level</th>\n",
       "      <th>blood_glucose_level</th>\n",
       "      <th>diabetes</th>\n",
       "    </tr>\n",
       "  </thead>\n",
       "  <tbody>\n",
       "    <tr>\n",
       "      <th>0</th>\n",
       "      <td>Female</td>\n",
       "      <td>80.0</td>\n",
       "      <td>0</td>\n",
       "      <td>1</td>\n",
       "      <td>never</td>\n",
       "      <td>25.19</td>\n",
       "      <td>6.6</td>\n",
       "      <td>140</td>\n",
       "      <td>0</td>\n",
       "    </tr>\n",
       "    <tr>\n",
       "      <th>2</th>\n",
       "      <td>Male</td>\n",
       "      <td>28.0</td>\n",
       "      <td>0</td>\n",
       "      <td>0</td>\n",
       "      <td>never</td>\n",
       "      <td>27.32</td>\n",
       "      <td>5.7</td>\n",
       "      <td>158</td>\n",
       "      <td>0</td>\n",
       "    </tr>\n",
       "    <tr>\n",
       "      <th>3</th>\n",
       "      <td>Female</td>\n",
       "      <td>36.0</td>\n",
       "      <td>0</td>\n",
       "      <td>0</td>\n",
       "      <td>current</td>\n",
       "      <td>23.45</td>\n",
       "      <td>5.0</td>\n",
       "      <td>155</td>\n",
       "      <td>0</td>\n",
       "    </tr>\n",
       "    <tr>\n",
       "      <th>4</th>\n",
       "      <td>Male</td>\n",
       "      <td>76.0</td>\n",
       "      <td>1</td>\n",
       "      <td>1</td>\n",
       "      <td>current</td>\n",
       "      <td>20.14</td>\n",
       "      <td>4.8</td>\n",
       "      <td>155</td>\n",
       "      <td>0</td>\n",
       "    </tr>\n",
       "    <tr>\n",
       "      <th>5</th>\n",
       "      <td>Female</td>\n",
       "      <td>20.0</td>\n",
       "      <td>0</td>\n",
       "      <td>0</td>\n",
       "      <td>never</td>\n",
       "      <td>27.32</td>\n",
       "      <td>6.6</td>\n",
       "      <td>85</td>\n",
       "      <td>0</td>\n",
       "    </tr>\n",
       "    <tr>\n",
       "      <th>6</th>\n",
       "      <td>Female</td>\n",
       "      <td>44.0</td>\n",
       "      <td>0</td>\n",
       "      <td>0</td>\n",
       "      <td>never</td>\n",
       "      <td>19.31</td>\n",
       "      <td>6.5</td>\n",
       "      <td>200</td>\n",
       "      <td>1</td>\n",
       "    </tr>\n",
       "    <tr>\n",
       "      <th>8</th>\n",
       "      <td>Male</td>\n",
       "      <td>42.0</td>\n",
       "      <td>0</td>\n",
       "      <td>0</td>\n",
       "      <td>never</td>\n",
       "      <td>33.64</td>\n",
       "      <td>4.8</td>\n",
       "      <td>145</td>\n",
       "      <td>0</td>\n",
       "    </tr>\n",
       "    <tr>\n",
       "      <th>9</th>\n",
       "      <td>Female</td>\n",
       "      <td>32.0</td>\n",
       "      <td>0</td>\n",
       "      <td>0</td>\n",
       "      <td>never</td>\n",
       "      <td>27.32</td>\n",
       "      <td>5.0</td>\n",
       "      <td>100</td>\n",
       "      <td>0</td>\n",
       "    </tr>\n",
       "    <tr>\n",
       "      <th>10</th>\n",
       "      <td>Female</td>\n",
       "      <td>53.0</td>\n",
       "      <td>0</td>\n",
       "      <td>0</td>\n",
       "      <td>never</td>\n",
       "      <td>27.32</td>\n",
       "      <td>6.1</td>\n",
       "      <td>85</td>\n",
       "      <td>0</td>\n",
       "    </tr>\n",
       "    <tr>\n",
       "      <th>11</th>\n",
       "      <td>Female</td>\n",
       "      <td>54.0</td>\n",
       "      <td>0</td>\n",
       "      <td>0</td>\n",
       "      <td>former</td>\n",
       "      <td>54.70</td>\n",
       "      <td>6.0</td>\n",
       "      <td>100</td>\n",
       "      <td>0</td>\n",
       "    </tr>\n",
       "  </tbody>\n",
       "</table>\n",
       "</div>"
      ],
      "text/plain": [
       "    gender   age  hypertension  heart_disease smoking_history    bmi  \\\n",
       "0   Female  80.0             0              1           never  25.19   \n",
       "2     Male  28.0             0              0           never  27.32   \n",
       "3   Female  36.0             0              0         current  23.45   \n",
       "4     Male  76.0             1              1         current  20.14   \n",
       "5   Female  20.0             0              0           never  27.32   \n",
       "6   Female  44.0             0              0           never  19.31   \n",
       "8     Male  42.0             0              0           never  33.64   \n",
       "9   Female  32.0             0              0           never  27.32   \n",
       "10  Female  53.0             0              0           never  27.32   \n",
       "11  Female  54.0             0              0          former  54.70   \n",
       "\n",
       "    HbA1c_level  blood_glucose_level  diabetes  \n",
       "0           6.6                  140         0  \n",
       "2           5.7                  158         0  \n",
       "3           5.0                  155         0  \n",
       "4           4.8                  155         0  \n",
       "5           6.6                   85         0  \n",
       "6           6.5                  200         1  \n",
       "8           4.8                  145         0  \n",
       "9           5.0                  100         0  \n",
       "10          6.1                   85         0  \n",
       "11          6.0                  100         0  "
      ]
     },
     "execution_count": 15,
     "metadata": {},
     "output_type": "execute_result"
    }
   ],
   "source": [
    "d6.head(10)"
   ]
  },
  {
   "cell_type": "code",
   "execution_count": 16,
   "id": "9912bf7a",
   "metadata": {
    "execution": {
     "iopub.execute_input": "2025-05-01T05:27:02.269607Z",
     "iopub.status.busy": "2025-05-01T05:27:02.269273Z",
     "iopub.status.idle": "2025-05-01T05:27:02.276949Z",
     "shell.execute_reply": "2025-05-01T05:27:02.275990Z"
    },
    "papermill": {
     "duration": 0.027384,
     "end_time": "2025-05-01T05:27:02.278449",
     "exception": false,
     "start_time": "2025-05-01T05:27:02.251065",
     "status": "completed"
    },
    "tags": []
   },
   "outputs": [
    {
     "name": "stdout",
     "output_type": "stream",
     "text": [
      "diabetes\n",
      "0    0.91178\n",
      "1    0.08822\n",
      "Name: proportion, dtype: float64\n"
     ]
    }
   ],
   "source": [
    "print(d5['diabetes'].value_counts(normalize=True))"
   ]
  },
  {
   "cell_type": "code",
   "execution_count": 17,
   "id": "17dec521",
   "metadata": {
    "execution": {
     "iopub.execute_input": "2025-05-01T05:27:02.314797Z",
     "iopub.status.busy": "2025-05-01T05:27:02.314475Z",
     "iopub.status.idle": "2025-05-01T05:27:02.320891Z",
     "shell.execute_reply": "2025-05-01T05:27:02.319917Z"
    },
    "papermill": {
     "duration": 0.026324,
     "end_time": "2025-05-01T05:27:02.322522",
     "exception": false,
     "start_time": "2025-05-01T05:27:02.296198",
     "status": "completed"
    },
    "tags": []
   },
   "outputs": [
    {
     "name": "stdout",
     "output_type": "stream",
     "text": [
      "diabetes\n",
      "0    0.888759\n",
      "1    0.111241\n",
      "Name: proportion, dtype: float64\n"
     ]
    }
   ],
   "source": [
    "print(d6['diabetes'].value_counts(normalize=True))"
   ]
  },
  {
   "cell_type": "code",
   "execution_count": 18,
   "id": "2bb4e6fc",
   "metadata": {
    "execution": {
     "iopub.execute_input": "2025-05-01T05:27:02.406651Z",
     "iopub.status.busy": "2025-05-01T05:27:02.406338Z",
     "iopub.status.idle": "2025-05-01T05:27:02.411593Z",
     "shell.execute_reply": "2025-05-01T05:27:02.410669Z"
    },
    "papermill": {
     "duration": 0.026253,
     "end_time": "2025-05-01T05:27:02.413199",
     "exception": false,
     "start_time": "2025-05-01T05:27:02.386946",
     "status": "completed"
    },
    "tags": []
   },
   "outputs": [
    {
     "data": {
      "text/plain": [
       "(63259, 9)"
      ]
     },
     "execution_count": 18,
     "metadata": {},
     "output_type": "execute_result"
    }
   ],
   "source": [
    "d6.shape"
   ]
  },
  {
   "cell_type": "code",
   "execution_count": 19,
   "id": "17ce34d6",
   "metadata": {
    "execution": {
     "iopub.execute_input": "2025-05-01T05:27:02.450112Z",
     "iopub.status.busy": "2025-05-01T05:27:02.449728Z",
     "iopub.status.idle": "2025-05-01T05:27:04.304756Z",
     "shell.execute_reply": "2025-05-01T05:27:04.303783Z"
    },
    "papermill": {
     "duration": 1.875803,
     "end_time": "2025-05-01T05:27:04.306847",
     "exception": false,
     "start_time": "2025-05-01T05:27:02.431044",
     "status": "completed"
    },
    "tags": []
   },
   "outputs": [
    {
     "data": {
      "text/plain": [
       "<Axes: xlabel='gender', ylabel='count'>"
      ]
     },
     "execution_count": 19,
     "metadata": {},
     "output_type": "execute_result"
    },
    {
     "data": {
      "image/png": "[encoded data removed]",
      "text/plain": [
       "<Figure size 640x480 with 1 Axes>"
      ]
     },
     "metadata": {},
     "output_type": "display_data"
    }
   ],
   "source": [
    "import matplotlib.pyplot as plt\n",
    "import seaborn as sns\n",
    "sns.countplot(data=d6,x='gender')"
   ]
  },
  {
   "cell_type": "code",
   "execution_count": 20,
   "id": "79a2a7e0",
   "metadata": {
    "execution": {
     "iopub.execute_input": "2025-05-01T05:27:04.351240Z",
     "iopub.status.busy": "2025-05-01T05:27:04.350710Z",
     "iopub.status.idle": "2025-05-01T05:27:04.365711Z",
     "shell.execute_reply": "2025-05-01T05:27:04.364838Z"
    },
    "papermill": {
     "duration": 0.036464,
     "end_time": "2025-05-01T05:27:04.367332",
     "exception": false,
     "start_time": "2025-05-01T05:27:04.330868",
     "status": "completed"
    },
    "tags": []
   },
   "outputs": [],
   "source": [
    "d7 = d6[~(d6['gender']=='Other')]"
   ]
  },
  {
   "cell_type": "code",
   "execution_count": 21,
   "id": "c35c54d5",
   "metadata": {
    "execution": {
     "iopub.execute_input": "2025-05-01T05:27:04.406348Z",
     "iopub.status.busy": "2025-05-01T05:27:04.406007Z",
     "iopub.status.idle": "2025-05-01T05:27:04.419006Z",
     "shell.execute_reply": "2025-05-01T05:27:04.417951Z"
    },
    "papermill": {
     "duration": 0.034035,
     "end_time": "2025-05-01T05:27:04.420569",
     "exception": false,
     "start_time": "2025-05-01T05:27:04.386534",
     "status": "completed"
    },
    "tags": []
   },
   "outputs": [
    {
     "data": {
      "text/html": [
       "<div>\n",
       "<style scoped>\n",
       "    .dataframe tbody tr th:only-of-type {\n",
       "        vertical-align: middle;\n",
       "    }\n",
       "\n",
       "    .dataframe tbody tr th {\n",
       "        vertical-align: top;\n",
       "    }\n",
       "\n",
       "    .dataframe thead th {\n",
       "        text-align: right;\n",
       "    }\n",
       "</style>\n",
       "<table border=\"1\" class=\"dataframe\">\n",
       "  <thead>\n",
       "    <tr style=\"text-align: right;\">\n",
       "      <th></th>\n",
       "      <th>gender</th>\n",
       "      <th>age</th>\n",
       "      <th>hypertension</th>\n",
       "      <th>heart_disease</th>\n",
       "      <th>smoking_history</th>\n",
       "      <th>bmi</th>\n",
       "      <th>HbA1c_level</th>\n",
       "      <th>blood_glucose_level</th>\n",
       "      <th>diabetes</th>\n",
       "    </tr>\n",
       "  </thead>\n",
       "  <tbody>\n",
       "    <tr>\n",
       "      <th>0</th>\n",
       "      <td>Female</td>\n",
       "      <td>80.0</td>\n",
       "      <td>0</td>\n",
       "      <td>1</td>\n",
       "      <td>never</td>\n",
       "      <td>25.19</td>\n",
       "      <td>6.6</td>\n",
       "      <td>140</td>\n",
       "      <td>0</td>\n",
       "    </tr>\n",
       "    <tr>\n",
       "      <th>2</th>\n",
       "      <td>Male</td>\n",
       "      <td>28.0</td>\n",
       "      <td>0</td>\n",
       "      <td>0</td>\n",
       "      <td>never</td>\n",
       "      <td>27.32</td>\n",
       "      <td>5.7</td>\n",
       "      <td>158</td>\n",
       "      <td>0</td>\n",
       "    </tr>\n",
       "    <tr>\n",
       "      <th>3</th>\n",
       "      <td>Female</td>\n",
       "      <td>36.0</td>\n",
       "      <td>0</td>\n",
       "      <td>0</td>\n",
       "      <td>current</td>\n",
       "      <td>23.45</td>\n",
       "      <td>5.0</td>\n",
       "      <td>155</td>\n",
       "      <td>0</td>\n",
       "    </tr>\n",
       "    <tr>\n",
       "      <th>4</th>\n",
       "      <td>Male</td>\n",
       "      <td>76.0</td>\n",
       "      <td>1</td>\n",
       "      <td>1</td>\n",
       "      <td>current</td>\n",
       "      <td>20.14</td>\n",
       "      <td>4.8</td>\n",
       "      <td>155</td>\n",
       "      <td>0</td>\n",
       "    </tr>\n",
       "    <tr>\n",
       "      <th>5</th>\n",
       "      <td>Female</td>\n",
       "      <td>20.0</td>\n",
       "      <td>0</td>\n",
       "      <td>0</td>\n",
       "      <td>never</td>\n",
       "      <td>27.32</td>\n",
       "      <td>6.6</td>\n",
       "      <td>85</td>\n",
       "      <td>0</td>\n",
       "    </tr>\n",
       "  </tbody>\n",
       "</table>\n",
       "</div>"
      ],
      "text/plain": [
       "   gender   age  hypertension  heart_disease smoking_history    bmi  \\\n",
       "0  Female  80.0             0              1           never  25.19   \n",
       "2    Male  28.0             0              0           never  27.32   \n",
       "3  Female  36.0             0              0         current  23.45   \n",
       "4    Male  76.0             1              1         current  20.14   \n",
       "5  Female  20.0             0              0           never  27.32   \n",
       "\n",
       "   HbA1c_level  blood_glucose_level  diabetes  \n",
       "0          6.6                  140         0  \n",
       "2          5.7                  158         0  \n",
       "3          5.0                  155         0  \n",
       "4          4.8                  155         0  \n",
       "5          6.6                   85         0  "
      ]
     },
     "execution_count": 21,
     "metadata": {},
     "output_type": "execute_result"
    }
   ],
   "source": [
    "d7.head(5)"
   ]
  },
  {
   "cell_type": "code",
   "execution_count": 22,
   "id": "cd05dff5",
   "metadata": {
    "execution": {
     "iopub.execute_input": "2025-05-01T05:27:04.459327Z",
     "iopub.status.busy": "2025-05-01T05:27:04.458985Z",
     "iopub.status.idle": "2025-05-01T05:27:04.464300Z",
     "shell.execute_reply": "2025-05-01T05:27:04.463355Z"
    },
    "papermill": {
     "duration": 0.026158,
     "end_time": "2025-05-01T05:27:04.465755",
     "exception": false,
     "start_time": "2025-05-01T05:27:04.439597",
     "status": "completed"
    },
    "tags": []
   },
   "outputs": [
    {
     "data": {
      "text/plain": [
       "(63247, 9)"
      ]
     },
     "execution_count": 22,
     "metadata": {},
     "output_type": "execute_result"
    }
   ],
   "source": [
    "d7.shape"
   ]
  },
  {
   "cell_type": "code",
   "execution_count": 23,
   "id": "607f1c4e",
   "metadata": {
    "execution": {
     "iopub.execute_input": "2025-05-01T05:27:04.504930Z",
     "iopub.status.busy": "2025-05-01T05:27:04.504453Z",
     "iopub.status.idle": "2025-05-01T05:27:04.540578Z",
     "shell.execute_reply": "2025-05-01T05:27:04.539609Z"
    },
    "papermill": {
     "duration": 0.057717,
     "end_time": "2025-05-01T05:27:04.542415",
     "exception": false,
     "start_time": "2025-05-01T05:27:04.484698",
     "status": "completed"
    },
    "tags": []
   },
   "outputs": [
    {
     "data": {
      "text/plain": [
       "0"
      ]
     },
     "execution_count": 23,
     "metadata": {},
     "output_type": "execute_result"
    }
   ],
   "source": [
    "d7.duplicated().sum()"
   ]
  },
  {
   "cell_type": "code",
   "execution_count": 24,
   "id": "16258216",
   "metadata": {
    "execution": {
     "iopub.execute_input": "2025-05-01T05:27:04.581567Z",
     "iopub.status.busy": "2025-05-01T05:27:04.581135Z",
     "iopub.status.idle": "2025-05-01T05:27:04.598153Z",
     "shell.execute_reply": "2025-05-01T05:27:04.597217Z"
    },
    "papermill": {
     "duration": 0.038606,
     "end_time": "2025-05-01T05:27:04.599948",
     "exception": false,
     "start_time": "2025-05-01T05:27:04.561342",
     "status": "completed"
    },
    "tags": []
   },
   "outputs": [
    {
     "data": {
      "text/plain": [
       "{0, 1}"
      ]
     },
     "execution_count": 24,
     "metadata": {},
     "output_type": "execute_result"
    }
   ],
   "source": [
    "set(d7.hypertension)"
   ]
  },
  {
   "cell_type": "code",
   "execution_count": 25,
   "id": "8e452529",
   "metadata": {
    "execution": {
     "iopub.execute_input": "2025-05-01T05:27:04.643268Z",
     "iopub.status.busy": "2025-05-01T05:27:04.642907Z",
     "iopub.status.idle": "2025-05-01T05:27:04.654202Z",
     "shell.execute_reply": "2025-05-01T05:27:04.653285Z"
    },
    "papermill": {
     "duration": 0.032778,
     "end_time": "2025-05-01T05:27:04.656027",
     "exception": false,
     "start_time": "2025-05-01T05:27:04.623249",
     "status": "completed"
    },
    "tags": []
   },
   "outputs": [
    {
     "data": {
      "text/plain": [
       "{0, 1}"
      ]
     },
     "execution_count": 25,
     "metadata": {},
     "output_type": "execute_result"
    }
   ],
   "source": [
    "set(d7.heart_disease)"
   ]
  },
  {
   "cell_type": "code",
   "execution_count": 26,
   "id": "ba1ce48a",
   "metadata": {
    "execution": {
     "iopub.execute_input": "2025-05-01T05:27:04.699161Z",
     "iopub.status.busy": "2025-05-01T05:27:04.698771Z",
     "iopub.status.idle": "2025-05-01T05:27:04.709258Z",
     "shell.execute_reply": "2025-05-01T05:27:04.708374Z"
    },
    "papermill": {
     "duration": 0.031863,
     "end_time": "2025-05-01T05:27:04.711012",
     "exception": false,
     "start_time": "2025-05-01T05:27:04.679149",
     "status": "completed"
    },
    "tags": []
   },
   "outputs": [
    {
     "data": {
      "text/plain": [
       "{0, 1}"
      ]
     },
     "execution_count": 26,
     "metadata": {},
     "output_type": "execute_result"
    }
   ],
   "source": [
    "set(d7.diabetes)"
   ]
  },
  {
   "cell_type": "code",
   "execution_count": 27,
   "id": "18711c05",
   "metadata": {
    "execution": {
     "iopub.execute_input": "2025-05-01T05:27:04.758055Z",
     "iopub.status.busy": "2025-05-01T05:27:04.757671Z",
     "iopub.status.idle": "2025-05-01T05:27:04.761569Z",
     "shell.execute_reply": "2025-05-01T05:27:04.760666Z"
    },
    "papermill": {
     "duration": 0.025435,
     "end_time": "2025-05-01T05:27:04.763355",
     "exception": false,
     "start_time": "2025-05-01T05:27:04.737920",
     "status": "completed"
    },
    "tags": []
   },
   "outputs": [],
   "source": [
    "import seaborn as sns\n",
    "import matplotlib.pyplot as plt"
   ]
  },
  {
   "cell_type": "code",
   "execution_count": 28,
   "id": "3675312e",
   "metadata": {
    "execution": {
     "iopub.execute_input": "2025-05-01T05:27:04.807967Z",
     "iopub.status.busy": "2025-05-01T05:27:04.807574Z",
     "iopub.status.idle": "2025-05-01T05:27:08.328450Z",
     "shell.execute_reply": "2025-05-01T05:27:08.327479Z"
    },
    "papermill": {
     "duration": 3.542102,
     "end_time": "2025-05-01T05:27:08.330172",
     "exception": false,
     "start_time": "2025-05-01T05:27:04.788070",
     "status": "completed"
    },
    "tags": []
   },
   "outputs": [
    {
     "data": {
      "text/plain": [
       "<Axes: xlabel='age', ylabel='diabetes'>"
      ]
     },
     "execution_count": 28,
     "metadata": {},
     "output_type": "execute_result"
    },
    {
     "data": {
      "image/png": "[encoded data removed]",
      "text/plain": [
       "<Figure size 5000x600 with 1 Axes>"
      ]
     },
     "metadata": {},
     "output_type": "display_data"
    }
   ],
   "source": [
    "plt.figure(figsize=(50,6))\n",
    "sns.barplot(x=d7.age,y=d7.diabetes)"
   ]
  },
  {
   "cell_type": "code",
   "execution_count": 29,
   "id": "8d284d55",
   "metadata": {
    "execution": {
     "iopub.execute_input": "2025-05-01T05:27:08.372874Z",
     "iopub.status.busy": "2025-05-01T05:27:08.372502Z",
     "iopub.status.idle": "2025-05-01T05:27:08.511284Z",
     "shell.execute_reply": "2025-05-01T05:27:08.510366Z"
    },
    "papermill": {
     "duration": 0.162187,
     "end_time": "2025-05-01T05:27:08.512693",
     "exception": false,
     "start_time": "2025-05-01T05:27:08.350506",
     "status": "completed"
    },
    "tags": []
   },
   "outputs": [
    {
     "data": {
      "text/plain": [
       "<Axes: >"
      ]
     },
     "execution_count": 29,
     "metadata": {},
     "output_type": "execute_result"
    },
    {
     "data": {
      "image/png": "[encoded data removed]",
      "text/plain": [
       "<Figure size 640x480 with 1 Axes>"
      ]
     },
     "metadata": {},
     "output_type": "display_data"
    }
   ],
   "source": [
    "sns.boxplot(d7.age)"
   ]
  },
  {
   "cell_type": "code",
   "execution_count": 30,
   "id": "7329504d",
   "metadata": {
    "execution": {
     "iopub.execute_input": "2025-05-01T05:27:08.554755Z",
     "iopub.status.busy": "2025-05-01T05:27:08.554404Z",
     "iopub.status.idle": "2025-05-01T05:27:08.563451Z",
     "shell.execute_reply": "2025-05-01T05:27:08.562524Z"
    },
    "papermill": {
     "duration": 0.032147,
     "end_time": "2025-05-01T05:27:08.565047",
     "exception": false,
     "start_time": "2025-05-01T05:27:08.532900",
     "status": "completed"
    },
    "tags": []
   },
   "outputs": [],
   "source": [
    "d8 = d7[d7['age']>=25]"
   ]
  },
  {
   "cell_type": "code",
   "execution_count": 31,
   "id": "b47c40db",
   "metadata": {
    "execution": {
     "iopub.execute_input": "2025-05-01T05:27:08.606738Z",
     "iopub.status.busy": "2025-05-01T05:27:08.606396Z",
     "iopub.status.idle": "2025-05-01T05:27:08.618995Z",
     "shell.execute_reply": "2025-05-01T05:27:08.618076Z"
    },
    "papermill": {
     "duration": 0.035002,
     "end_time": "2025-05-01T05:27:08.620492",
     "exception": false,
     "start_time": "2025-05-01T05:27:08.585490",
     "status": "completed"
    },
    "tags": []
   },
   "outputs": [
    {
     "data": {
      "text/html": [
       "<div>\n",
       "<style scoped>\n",
       "    .dataframe tbody tr th:only-of-type {\n",
       "        vertical-align: middle;\n",
       "    }\n",
       "\n",
       "    .dataframe tbody tr th {\n",
       "        vertical-align: top;\n",
       "    }\n",
       "\n",
       "    .dataframe thead th {\n",
       "        text-align: right;\n",
       "    }\n",
       "</style>\n",
       "<table border=\"1\" class=\"dataframe\">\n",
       "  <thead>\n",
       "    <tr style=\"text-align: right;\">\n",
       "      <th></th>\n",
       "      <th>gender</th>\n",
       "      <th>age</th>\n",
       "      <th>hypertension</th>\n",
       "      <th>heart_disease</th>\n",
       "      <th>smoking_history</th>\n",
       "      <th>bmi</th>\n",
       "      <th>HbA1c_level</th>\n",
       "      <th>blood_glucose_level</th>\n",
       "      <th>diabetes</th>\n",
       "    </tr>\n",
       "  </thead>\n",
       "  <tbody>\n",
       "    <tr>\n",
       "      <th>0</th>\n",
       "      <td>Female</td>\n",
       "      <td>80.0</td>\n",
       "      <td>0</td>\n",
       "      <td>1</td>\n",
       "      <td>never</td>\n",
       "      <td>25.19</td>\n",
       "      <td>6.6</td>\n",
       "      <td>140</td>\n",
       "      <td>0</td>\n",
       "    </tr>\n",
       "    <tr>\n",
       "      <th>2</th>\n",
       "      <td>Male</td>\n",
       "      <td>28.0</td>\n",
       "      <td>0</td>\n",
       "      <td>0</td>\n",
       "      <td>never</td>\n",
       "      <td>27.32</td>\n",
       "      <td>5.7</td>\n",
       "      <td>158</td>\n",
       "      <td>0</td>\n",
       "    </tr>\n",
       "    <tr>\n",
       "      <th>3</th>\n",
       "      <td>Female</td>\n",
       "      <td>36.0</td>\n",
       "      <td>0</td>\n",
       "      <td>0</td>\n",
       "      <td>current</td>\n",
       "      <td>23.45</td>\n",
       "      <td>5.0</td>\n",
       "      <td>155</td>\n",
       "      <td>0</td>\n",
       "    </tr>\n",
       "    <tr>\n",
       "      <th>4</th>\n",
       "      <td>Male</td>\n",
       "      <td>76.0</td>\n",
       "      <td>1</td>\n",
       "      <td>1</td>\n",
       "      <td>current</td>\n",
       "      <td>20.14</td>\n",
       "      <td>4.8</td>\n",
       "      <td>155</td>\n",
       "      <td>0</td>\n",
       "    </tr>\n",
       "    <tr>\n",
       "      <th>6</th>\n",
       "      <td>Female</td>\n",
       "      <td>44.0</td>\n",
       "      <td>0</td>\n",
       "      <td>0</td>\n",
       "      <td>never</td>\n",
       "      <td>19.31</td>\n",
       "      <td>6.5</td>\n",
       "      <td>200</td>\n",
       "      <td>1</td>\n",
       "    </tr>\n",
       "  </tbody>\n",
       "</table>\n",
       "</div>"
      ],
      "text/plain": [
       "   gender   age  hypertension  heart_disease smoking_history    bmi  \\\n",
       "0  Female  80.0             0              1           never  25.19   \n",
       "2    Male  28.0             0              0           never  27.32   \n",
       "3  Female  36.0             0              0         current  23.45   \n",
       "4    Male  76.0             1              1         current  20.14   \n",
       "6  Female  44.0             0              0           never  19.31   \n",
       "\n",
       "   HbA1c_level  blood_glucose_level  diabetes  \n",
       "0          6.6                  140         0  \n",
       "2          5.7                  158         0  \n",
       "3          5.0                  155         0  \n",
       "4          4.8                  155         0  \n",
       "6          6.5                  200         1  "
      ]
     },
     "execution_count": 31,
     "metadata": {},
     "output_type": "execute_result"
    }
   ],
   "source": [
    "d8.head(5)"
   ]
  },
  {
   "cell_type": "code",
   "execution_count": 32,
   "id": "d65efbae",
   "metadata": {
    "execution": {
     "iopub.execute_input": "2025-05-01T05:27:08.662318Z",
     "iopub.status.busy": "2025-05-01T05:27:08.661960Z",
     "iopub.status.idle": "2025-05-01T05:27:08.667287Z",
     "shell.execute_reply": "2025-05-01T05:27:08.666387Z"
    },
    "papermill": {
     "duration": 0.027695,
     "end_time": "2025-05-01T05:27:08.668651",
     "exception": false,
     "start_time": "2025-05-01T05:27:08.640956",
     "status": "completed"
    },
    "tags": []
   },
   "outputs": [
    {
     "data": {
      "text/plain": [
       "(53354, 9)"
      ]
     },
     "execution_count": 32,
     "metadata": {},
     "output_type": "execute_result"
    }
   ],
   "source": [
    "d8.shape"
   ]
  },
  {
   "cell_type": "code",
   "execution_count": 33,
   "id": "b48a9ce5",
   "metadata": {
    "execution": {
     "iopub.execute_input": "2025-05-01T05:27:08.710284Z",
     "iopub.status.busy": "2025-05-01T05:27:08.709939Z",
     "iopub.status.idle": "2025-05-01T05:27:08.861859Z",
     "shell.execute_reply": "2025-05-01T05:27:08.860968Z"
    },
    "papermill": {
     "duration": 0.174554,
     "end_time": "2025-05-01T05:27:08.863440",
     "exception": false,
     "start_time": "2025-05-01T05:27:08.688886",
     "status": "completed"
    },
    "tags": []
   },
   "outputs": [
    {
     "data": {
      "text/plain": [
       "<Axes: >"
      ]
     },
     "execution_count": 33,
     "metadata": {},
     "output_type": "execute_result"
    },
    {
     "data": {
      "image/png": "[encoded data removed]",
      "text/plain": [
       "<Figure size 640x480 with 1 Axes>"
      ]
     },
     "metadata": {},
     "output_type": "display_data"
    }
   ],
   "source": [
    "sns.boxplot(d8.bmi)"
   ]
  },
  {
   "cell_type": "code",
   "execution_count": 34,
   "id": "ca56cd7c",
   "metadata": {
    "execution": {
     "iopub.execute_input": "2025-05-01T05:27:08.906248Z",
     "iopub.status.busy": "2025-05-01T05:27:08.905904Z",
     "iopub.status.idle": "2025-05-01T05:27:08.914462Z",
     "shell.execute_reply": "2025-05-01T05:27:08.913756Z"
    },
    "papermill": {
     "duration": 0.031472,
     "end_time": "2025-05-01T05:27:08.915866",
     "exception": false,
     "start_time": "2025-05-01T05:27:08.884394",
     "status": "completed"
    },
    "tags": []
   },
   "outputs": [],
   "source": [
    "d9 = d8[(d8['bmi']>=15)&(d8['bmi']<=70)]"
   ]
  },
  {
   "cell_type": "code",
   "execution_count": 35,
   "id": "8902a5cf",
   "metadata": {
    "execution": {
     "iopub.execute_input": "2025-05-01T05:27:08.958340Z",
     "iopub.status.busy": "2025-05-01T05:27:08.958013Z",
     "iopub.status.idle": "2025-05-01T05:27:10.106288Z",
     "shell.execute_reply": "2025-05-01T05:27:10.105356Z"
    },
    "papermill": {
     "duration": 1.171357,
     "end_time": "2025-05-01T05:27:10.108012",
     "exception": false,
     "start_time": "2025-05-01T05:27:08.936655",
     "status": "completed"
    },
    "tags": []
   },
   "outputs": [
    {
     "data": {
      "text/plain": [
       "<Axes: xlabel='HbA1c_level', ylabel='diabetes'>"
      ]
     },
     "execution_count": 35,
     "metadata": {},
     "output_type": "execute_result"
    },
    {
     "data": {
      "image/png": "[encoded data removed]",
      "text/plain": [
       "<Figure size 5000x600 with 1 Axes>"
      ]
     },
     "metadata": {},
     "output_type": "display_data"
    }
   ],
   "source": [
    "plt.figure(figsize=(50,6))\n",
    "sns.barplot(x=d7.HbA1c_level,y=d7.diabetes)"
   ]
  },
  {
   "cell_type": "code",
   "execution_count": 36,
   "id": "106a7229",
   "metadata": {
    "execution": {
     "iopub.execute_input": "2025-05-01T05:27:10.151883Z",
     "iopub.status.busy": "2025-05-01T05:27:10.151498Z",
     "iopub.status.idle": "2025-05-01T05:27:10.275438Z",
     "shell.execute_reply": "2025-05-01T05:27:10.274506Z"
    },
    "papermill": {
     "duration": 0.147469,
     "end_time": "2025-05-01T05:27:10.276984",
     "exception": false,
     "start_time": "2025-05-01T05:27:10.129515",
     "status": "completed"
    },
    "tags": []
   },
   "outputs": [
    {
     "data": {
      "text/plain": [
       "<Axes: >"
      ]
     },
     "execution_count": 36,
     "metadata": {},
     "output_type": "execute_result"
    },
    {
     "data": {
      "image/png": "[encoded data removed]",
      "text/plain": [
       "<Figure size 640x480 with 1 Axes>"
      ]
     },
     "metadata": {},
     "output_type": "display_data"
    }
   ],
   "source": [
    "sns.boxplot(d9.HbA1c_level)"
   ]
  },
  {
   "cell_type": "code",
   "execution_count": 37,
   "id": "b2efbbf3",
   "metadata": {
    "execution": {
     "iopub.execute_input": "2025-05-01T05:27:10.321646Z",
     "iopub.status.busy": "2025-05-01T05:27:10.321326Z",
     "iopub.status.idle": "2025-05-01T05:27:10.327805Z",
     "shell.execute_reply": "2025-05-01T05:27:10.327047Z"
    },
    "papermill": {
     "duration": 0.030268,
     "end_time": "2025-05-01T05:27:10.329231",
     "exception": false,
     "start_time": "2025-05-01T05:27:10.298963",
     "status": "completed"
    },
    "tags": []
   },
   "outputs": [],
   "source": [
    "d9 = d9[d9['HbA1c_level']<8.5]"
   ]
  },
  {
   "cell_type": "code",
   "execution_count": 38,
   "id": "41c9c3ad",
   "metadata": {
    "execution": {
     "iopub.execute_input": "2025-05-01T05:27:10.373968Z",
     "iopub.status.busy": "2025-05-01T05:27:10.373584Z",
     "iopub.status.idle": "2025-05-01T05:27:10.495241Z",
     "shell.execute_reply": "2025-05-01T05:27:10.494198Z"
    },
    "papermill": {
     "duration": 0.145778,
     "end_time": "2025-05-01T05:27:10.496722",
     "exception": false,
     "start_time": "2025-05-01T05:27:10.350944",
     "status": "completed"
    },
    "tags": []
   },
   "outputs": [
    {
     "data": {
      "text/plain": [
       "<Axes: >"
      ]
     },
     "execution_count": 38,
     "metadata": {},
     "output_type": "execute_result"
    },
    {
     "data": {
      "image/png": "[encoded data removed]",
      "text/plain": [
       "<Figure size 640x480 with 1 Axes>"
      ]
     },
     "metadata": {},
     "output_type": "display_data"
    }
   ],
   "source": [
    "sns.boxplot(d9.blood_glucose_level)\t"
   ]
  },
  {
   "cell_type": "code",
   "execution_count": 39,
   "id": "22b5b7d4",
   "metadata": {
    "execution": {
     "iopub.execute_input": "2025-05-01T05:27:10.542127Z",
     "iopub.status.busy": "2025-05-01T05:27:10.541605Z",
     "iopub.status.idle": "2025-05-01T05:27:10.548178Z",
     "shell.execute_reply": "2025-05-01T05:27:10.547447Z"
    },
    "papermill": {
     "duration": 0.030586,
     "end_time": "2025-05-01T05:27:10.549563",
     "exception": false,
     "start_time": "2025-05-01T05:27:10.518977",
     "status": "completed"
    },
    "tags": []
   },
   "outputs": [],
   "source": [
    "d9 = d9[d9['blood_glucose_level']<250]"
   ]
  },
  {
   "cell_type": "code",
   "execution_count": 40,
   "id": "a0e37064",
   "metadata": {
    "execution": {
     "iopub.execute_input": "2025-05-01T05:27:10.594151Z",
     "iopub.status.busy": "2025-05-01T05:27:10.593811Z",
     "iopub.status.idle": "2025-05-01T05:27:10.598796Z",
     "shell.execute_reply": "2025-05-01T05:27:10.597990Z"
    },
    "papermill": {
     "duration": 0.028887,
     "end_time": "2025-05-01T05:27:10.600192",
     "exception": false,
     "start_time": "2025-05-01T05:27:10.571305",
     "status": "completed"
    },
    "tags": []
   },
   "outputs": [
    {
     "data": {
      "text/plain": [
       "(50841, 9)"
      ]
     },
     "execution_count": 40,
     "metadata": {},
     "output_type": "execute_result"
    }
   ],
   "source": [
    "d9.shape"
   ]
  },
  {
   "cell_type": "code",
   "execution_count": 41,
   "id": "cd0ab396",
   "metadata": {
    "execution": {
     "iopub.execute_input": "2025-05-01T05:27:10.644504Z",
     "iopub.status.busy": "2025-05-01T05:27:10.644198Z",
     "iopub.status.idle": "2025-05-01T05:27:10.655988Z",
     "shell.execute_reply": "2025-05-01T05:27:10.655067Z"
    },
    "papermill": {
     "duration": 0.035615,
     "end_time": "2025-05-01T05:27:10.657418",
     "exception": false,
     "start_time": "2025-05-01T05:27:10.621803",
     "status": "completed"
    },
    "tags": []
   },
   "outputs": [
    {
     "data": {
      "text/html": [
       "<div>\n",
       "<style scoped>\n",
       "    .dataframe tbody tr th:only-of-type {\n",
       "        vertical-align: middle;\n",
       "    }\n",
       "\n",
       "    .dataframe tbody tr th {\n",
       "        vertical-align: top;\n",
       "    }\n",
       "\n",
       "    .dataframe thead th {\n",
       "        text-align: right;\n",
       "    }\n",
       "</style>\n",
       "<table border=\"1\" class=\"dataframe\">\n",
       "  <thead>\n",
       "    <tr style=\"text-align: right;\">\n",
       "      <th></th>\n",
       "      <th>gender</th>\n",
       "      <th>age</th>\n",
       "      <th>hypertension</th>\n",
       "      <th>heart_disease</th>\n",
       "      <th>smoking_history</th>\n",
       "      <th>bmi</th>\n",
       "      <th>HbA1c_level</th>\n",
       "      <th>blood_glucose_level</th>\n",
       "      <th>diabetes</th>\n",
       "    </tr>\n",
       "  </thead>\n",
       "  <tbody>\n",
       "    <tr>\n",
       "      <th>0</th>\n",
       "      <td>Female</td>\n",
       "      <td>80.0</td>\n",
       "      <td>0</td>\n",
       "      <td>1</td>\n",
       "      <td>never</td>\n",
       "      <td>25.19</td>\n",
       "      <td>6.6</td>\n",
       "      <td>140</td>\n",
       "      <td>0</td>\n",
       "    </tr>\n",
       "    <tr>\n",
       "      <th>2</th>\n",
       "      <td>Male</td>\n",
       "      <td>28.0</td>\n",
       "      <td>0</td>\n",
       "      <td>0</td>\n",
       "      <td>never</td>\n",
       "      <td>27.32</td>\n",
       "      <td>5.7</td>\n",
       "      <td>158</td>\n",
       "      <td>0</td>\n",
       "    </tr>\n",
       "    <tr>\n",
       "      <th>3</th>\n",
       "      <td>Female</td>\n",
       "      <td>36.0</td>\n",
       "      <td>0</td>\n",
       "      <td>0</td>\n",
       "      <td>current</td>\n",
       "      <td>23.45</td>\n",
       "      <td>5.0</td>\n",
       "      <td>155</td>\n",
       "      <td>0</td>\n",
       "    </tr>\n",
       "    <tr>\n",
       "      <th>4</th>\n",
       "      <td>Male</td>\n",
       "      <td>76.0</td>\n",
       "      <td>1</td>\n",
       "      <td>1</td>\n",
       "      <td>current</td>\n",
       "      <td>20.14</td>\n",
       "      <td>4.8</td>\n",
       "      <td>155</td>\n",
       "      <td>0</td>\n",
       "    </tr>\n",
       "    <tr>\n",
       "      <th>6</th>\n",
       "      <td>Female</td>\n",
       "      <td>44.0</td>\n",
       "      <td>0</td>\n",
       "      <td>0</td>\n",
       "      <td>never</td>\n",
       "      <td>19.31</td>\n",
       "      <td>6.5</td>\n",
       "      <td>200</td>\n",
       "      <td>1</td>\n",
       "    </tr>\n",
       "  </tbody>\n",
       "</table>\n",
       "</div>"
      ],
      "text/plain": [
       "   gender   age  hypertension  heart_disease smoking_history    bmi  \\\n",
       "0  Female  80.0             0              1           never  25.19   \n",
       "2    Male  28.0             0              0           never  27.32   \n",
       "3  Female  36.0             0              0         current  23.45   \n",
       "4    Male  76.0             1              1         current  20.14   \n",
       "6  Female  44.0             0              0           never  19.31   \n",
       "\n",
       "   HbA1c_level  blood_glucose_level  diabetes  \n",
       "0          6.6                  140         0  \n",
       "2          5.7                  158         0  \n",
       "3          5.0                  155         0  \n",
       "4          4.8                  155         0  \n",
       "6          6.5                  200         1  "
      ]
     },
     "execution_count": 41,
     "metadata": {},
     "output_type": "execute_result"
    }
   ],
   "source": [
    "d9.head(5)"
   ]
  },
  {
   "cell_type": "code",
   "execution_count": 42,
   "id": "39ad90a6",
   "metadata": {
    "execution": {
     "iopub.execute_input": "2025-05-01T05:27:10.702514Z",
     "iopub.status.busy": "2025-05-01T05:27:10.702207Z",
     "iopub.status.idle": "2025-05-01T05:27:10.838643Z",
     "shell.execute_reply": "2025-05-01T05:27:10.837670Z"
    },
    "papermill": {
     "duration": 0.160692,
     "end_time": "2025-05-01T05:27:10.840090",
     "exception": false,
     "start_time": "2025-05-01T05:27:10.679398",
     "status": "completed"
    },
    "tags": []
   },
   "outputs": [
    {
     "data": {
      "text/plain": [
       "<Axes: >"
      ]
     },
     "execution_count": 42,
     "metadata": {},
     "output_type": "execute_result"
    },
    {
     "data": {
      "image/png": "[encoded data removed]",
      "text/plain": [
       "<Figure size 640x480 with 1 Axes>"
      ]
     },
     "metadata": {},
     "output_type": "display_data"
    }
   ],
   "source": [
    "sns.boxplot(d9.blood_glucose_level)\t"
   ]
  },
  {
   "cell_type": "code",
   "execution_count": 43,
   "id": "aa62594c",
   "metadata": {
    "execution": {
     "iopub.execute_input": "2025-05-01T05:27:10.886178Z",
     "iopub.status.busy": "2025-05-01T05:27:10.885861Z",
     "iopub.status.idle": "2025-05-01T05:27:10.998085Z",
     "shell.execute_reply": "2025-05-01T05:27:10.997121Z"
    },
    "papermill": {
     "duration": 0.137024,
     "end_time": "2025-05-01T05:27:10.999670",
     "exception": false,
     "start_time": "2025-05-01T05:27:10.862646",
     "status": "completed"
    },
    "tags": []
   },
   "outputs": [
    {
     "data": {
      "text/plain": [
       "<Axes: >"
      ]
     },
     "execution_count": 43,
     "metadata": {},
     "output_type": "execute_result"
    },
    {
     "data": {
      "image/png": "[encoded data removed]",
      "text/plain": [
       "<Figure size 640x480 with 1 Axes>"
      ]
     },
     "metadata": {},
     "output_type": "display_data"
    }
   ],
   "source": [
    "sns.boxplot(d9.HbA1c_level)\t"
   ]
  },
  {
   "cell_type": "code",
   "execution_count": 44,
   "id": "9001290d",
   "metadata": {
    "execution": {
     "iopub.execute_input": "2025-05-01T05:27:11.046505Z",
     "iopub.status.busy": "2025-05-01T05:27:11.046194Z",
     "iopub.status.idle": "2025-05-01T05:27:11.178135Z",
     "shell.execute_reply": "2025-05-01T05:27:11.177208Z"
    },
    "papermill": {
     "duration": 0.157054,
     "end_time": "2025-05-01T05:27:11.179694",
     "exception": false,
     "start_time": "2025-05-01T05:27:11.022640",
     "status": "completed"
    },
    "tags": []
   },
   "outputs": [
    {
     "data": {
      "text/plain": [
       "<Axes: >"
      ]
     },
     "execution_count": 44,
     "metadata": {},
     "output_type": "execute_result"
    },
    {
     "data": {
      "image/png": "[encoded data removed]",
      "text/plain": [
       "<Figure size 640x480 with 1 Axes>"
      ]
     },
     "metadata": {},
     "output_type": "display_data"
    }
   ],
   "source": [
    "sns.boxplot(d9.bmi)\t"
   ]
  },
  {
   "cell_type": "code",
   "execution_count": 45,
   "id": "6cd97ddf",
   "metadata": {
    "execution": {
     "iopub.execute_input": "2025-05-01T05:27:11.226863Z",
     "iopub.status.busy": "2025-05-01T05:27:11.226504Z",
     "iopub.status.idle": "2025-05-01T05:27:11.233095Z",
     "shell.execute_reply": "2025-05-01T05:27:11.232147Z"
    },
    "papermill": {
     "duration": 0.03152,
     "end_time": "2025-05-01T05:27:11.234444",
     "exception": false,
     "start_time": "2025-05-01T05:27:11.202924",
     "status": "completed"
    },
    "tags": []
   },
   "outputs": [
    {
     "name": "stdout",
     "output_type": "stream",
     "text": [
      "diabetes\n",
      "0    0.912177\n",
      "1    0.087823\n",
      "Name: proportion, dtype: float64\n"
     ]
    }
   ],
   "source": [
    "print(d9['diabetes'].value_counts(normalize=True))"
   ]
  },
  {
   "cell_type": "code",
   "execution_count": 46,
   "id": "926f37dc",
   "metadata": {
    "execution": {
     "iopub.execute_input": "2025-05-01T05:27:11.283255Z",
     "iopub.status.busy": "2025-05-01T05:27:11.282916Z",
     "iopub.status.idle": "2025-05-01T05:27:11.316379Z",
     "shell.execute_reply": "2025-05-01T05:27:11.315342Z"
    },
    "papermill": {
     "duration": 0.059036,
     "end_time": "2025-05-01T05:27:11.317948",
     "exception": false,
     "start_time": "2025-05-01T05:27:11.258912",
     "status": "completed"
    },
    "tags": []
   },
   "outputs": [
    {
     "data": {
      "text/html": [
       "<div>\n",
       "<style scoped>\n",
       "    .dataframe tbody tr th:only-of-type {\n",
       "        vertical-align: middle;\n",
       "    }\n",
       "\n",
       "    .dataframe tbody tr th {\n",
       "        vertical-align: top;\n",
       "    }\n",
       "\n",
       "    .dataframe thead th {\n",
       "        text-align: right;\n",
       "    }\n",
       "</style>\n",
       "<table border=\"1\" class=\"dataframe\">\n",
       "  <thead>\n",
       "    <tr style=\"text-align: right;\">\n",
       "      <th></th>\n",
       "      <th>age</th>\n",
       "      <th>hypertension</th>\n",
       "      <th>heart_disease</th>\n",
       "      <th>bmi</th>\n",
       "      <th>HbA1c_level</th>\n",
       "      <th>blood_glucose_level</th>\n",
       "      <th>diabetes</th>\n",
       "    </tr>\n",
       "  </thead>\n",
       "  <tbody>\n",
       "    <tr>\n",
       "      <th>count</th>\n",
       "      <td>50841.000000</td>\n",
       "      <td>50841.000000</td>\n",
       "      <td>50841.000000</td>\n",
       "      <td>50841.000000</td>\n",
       "      <td>50841.000000</td>\n",
       "      <td>50841.000000</td>\n",
       "      <td>50841.000000</td>\n",
       "    </tr>\n",
       "    <tr>\n",
       "      <th>mean</th>\n",
       "      <td>51.561496</td>\n",
       "      <td>0.110069</td>\n",
       "      <td>0.051533</td>\n",
       "      <td>28.992336</td>\n",
       "      <td>5.501332</td>\n",
       "      <td>135.921127</td>\n",
       "      <td>0.087823</td>\n",
       "    </tr>\n",
       "    <tr>\n",
       "      <th>std</th>\n",
       "      <td>15.917778</td>\n",
       "      <td>0.312978</td>\n",
       "      <td>0.221085</td>\n",
       "      <td>6.252946</td>\n",
       "      <td>1.009339</td>\n",
       "      <td>35.779770</td>\n",
       "      <td>0.283040</td>\n",
       "    </tr>\n",
       "    <tr>\n",
       "      <th>min</th>\n",
       "      <td>25.000000</td>\n",
       "      <td>0.000000</td>\n",
       "      <td>0.000000</td>\n",
       "      <td>15.040000</td>\n",
       "      <td>3.500000</td>\n",
       "      <td>80.000000</td>\n",
       "      <td>0.000000</td>\n",
       "    </tr>\n",
       "    <tr>\n",
       "      <th>25%</th>\n",
       "      <td>38.000000</td>\n",
       "      <td>0.000000</td>\n",
       "      <td>0.000000</td>\n",
       "      <td>25.380000</td>\n",
       "      <td>4.800000</td>\n",
       "      <td>100.000000</td>\n",
       "      <td>0.000000</td>\n",
       "    </tr>\n",
       "    <tr>\n",
       "      <th>50%</th>\n",
       "      <td>51.000000</td>\n",
       "      <td>0.000000</td>\n",
       "      <td>0.000000</td>\n",
       "      <td>27.320000</td>\n",
       "      <td>5.800000</td>\n",
       "      <td>140.000000</td>\n",
       "      <td>0.000000</td>\n",
       "    </tr>\n",
       "    <tr>\n",
       "      <th>75%</th>\n",
       "      <td>63.000000</td>\n",
       "      <td>0.000000</td>\n",
       "      <td>0.000000</td>\n",
       "      <td>31.620000</td>\n",
       "      <td>6.200000</td>\n",
       "      <td>159.000000</td>\n",
       "      <td>0.000000</td>\n",
       "    </tr>\n",
       "    <tr>\n",
       "      <th>max</th>\n",
       "      <td>80.000000</td>\n",
       "      <td>1.000000</td>\n",
       "      <td>1.000000</td>\n",
       "      <td>69.550000</td>\n",
       "      <td>8.200000</td>\n",
       "      <td>240.000000</td>\n",
       "      <td>1.000000</td>\n",
       "    </tr>\n",
       "  </tbody>\n",
       "</table>\n",
       "</div>"
      ],
      "text/plain": [
       "                age  hypertension  heart_disease           bmi   HbA1c_level  \\\n",
       "count  50841.000000  50841.000000   50841.000000  50841.000000  50841.000000   \n",
       "mean      51.561496      0.110069       0.051533     28.992336      5.501332   \n",
       "std       15.917778      0.312978       0.221085      6.252946      1.009339   \n",
       "min       25.000000      0.000000       0.000000     15.040000      3.500000   \n",
       "25%       38.000000      0.000000       0.000000     25.380000      4.800000   \n",
       "50%       51.000000      0.000000       0.000000     27.320000      5.800000   \n",
       "75%       63.000000      0.000000       0.000000     31.620000      6.200000   \n",
       "max       80.000000      1.000000       1.000000     69.550000      8.200000   \n",
       "\n",
       "       blood_glucose_level      diabetes  \n",
       "count         50841.000000  50841.000000  \n",
       "mean            135.921127      0.087823  \n",
       "std              35.779770      0.283040  \n",
       "min              80.000000      0.000000  \n",
       "25%             100.000000      0.000000  \n",
       "50%             140.000000      0.000000  \n",
       "75%             159.000000      0.000000  \n",
       "max             240.000000      1.000000  "
      ]
     },
     "execution_count": 46,
     "metadata": {},
     "output_type": "execute_result"
    }
   ],
   "source": [
    "d9.describe()"
   ]
  },
  {
   "cell_type": "code",
   "execution_count": 47,
   "id": "055a4daf",
   "metadata": {
    "execution": {
     "iopub.execute_input": "2025-05-01T05:27:11.366232Z",
     "iopub.status.busy": "2025-05-01T05:27:11.365907Z",
     "iopub.status.idle": "2025-05-01T05:27:11.383914Z",
     "shell.execute_reply": "2025-05-01T05:27:11.382991Z"
    },
    "papermill": {
     "duration": 0.043746,
     "end_time": "2025-05-01T05:27:11.385445",
     "exception": false,
     "start_time": "2025-05-01T05:27:11.341699",
     "status": "completed"
    },
    "tags": []
   },
   "outputs": [
    {
     "data": {
      "text/plain": [
       "0"
      ]
     },
     "execution_count": 47,
     "metadata": {},
     "output_type": "execute_result"
    }
   ],
   "source": [
    "d9.duplicated().sum()"
   ]
  },
  {
   "cell_type": "code",
   "execution_count": 48,
   "id": "da80bf2e",
   "metadata": {
    "execution": {
     "iopub.execute_input": "2025-05-01T05:27:11.435126Z",
     "iopub.status.busy": "2025-05-01T05:27:11.434770Z",
     "iopub.status.idle": "2025-05-01T05:27:11.441288Z",
     "shell.execute_reply": "2025-05-01T05:27:11.440393Z"
    },
    "papermill": {
     "duration": 0.032275,
     "end_time": "2025-05-01T05:27:11.442658",
     "exception": false,
     "start_time": "2025-05-01T05:27:11.410383",
     "status": "completed"
    },
    "tags": []
   },
   "outputs": [
    {
     "data": {
      "text/plain": [
       "diabetes\n",
       "0    46376\n",
       "1     4465\n",
       "Name: count, dtype: int64"
      ]
     },
     "execution_count": 48,
     "metadata": {},
     "output_type": "execute_result"
    }
   ],
   "source": [
    "d9['diabetes'].value_counts()"
   ]
  },
  {
   "cell_type": "code",
   "execution_count": 49,
   "id": "5f1d2450",
   "metadata": {
    "execution": {
     "iopub.execute_input": "2025-05-01T05:27:11.490958Z",
     "iopub.status.busy": "2025-05-01T05:27:11.490580Z",
     "iopub.status.idle": "2025-05-01T05:27:11.685350Z",
     "shell.execute_reply": "2025-05-01T05:27:11.684344Z"
    },
    "papermill": {
     "duration": 0.220694,
     "end_time": "2025-05-01T05:27:11.686786",
     "exception": false,
     "start_time": "2025-05-01T05:27:11.466092",
     "status": "completed"
    },
    "tags": []
   },
   "outputs": [
    {
     "data": {
      "text/plain": [
       "<Axes: xlabel='gender', ylabel='count'>"
      ]
     },
     "execution_count": 49,
     "metadata": {},
     "output_type": "execute_result"
    },
    {
     "data": {
      "image/png": "[encoded data removed]",
      "text/plain": [
       "<Figure size 640x480 with 1 Axes>"
      ]
     },
     "metadata": {},
     "output_type": "display_data"
    }
   ],
   "source": [
    "sns.countplot(data=d9,x='gender',hue='diabetes')"
   ]
  },
  {
   "cell_type": "code",
   "execution_count": 50,
   "id": "8b704645",
   "metadata": {
    "execution": {
     "iopub.execute_input": "2025-05-01T05:27:11.736694Z",
     "iopub.status.busy": "2025-05-01T05:27:11.736354Z",
     "iopub.status.idle": "2025-05-01T05:27:11.748386Z",
     "shell.execute_reply": "2025-05-01T05:27:11.747444Z"
    },
    "papermill": {
     "duration": 0.039037,
     "end_time": "2025-05-01T05:27:11.749968",
     "exception": false,
     "start_time": "2025-05-01T05:27:11.710931",
     "status": "completed"
    },
    "tags": []
   },
   "outputs": [
    {
     "data": {
      "text/html": [
       "<div>\n",
       "<style scoped>\n",
       "    .dataframe tbody tr th:only-of-type {\n",
       "        vertical-align: middle;\n",
       "    }\n",
       "\n",
       "    .dataframe tbody tr th {\n",
       "        vertical-align: top;\n",
       "    }\n",
       "\n",
       "    .dataframe thead th {\n",
       "        text-align: right;\n",
       "    }\n",
       "</style>\n",
       "<table border=\"1\" class=\"dataframe\">\n",
       "  <thead>\n",
       "    <tr style=\"text-align: right;\">\n",
       "      <th></th>\n",
       "      <th>gender</th>\n",
       "      <th>age</th>\n",
       "      <th>hypertension</th>\n",
       "      <th>heart_disease</th>\n",
       "      <th>smoking_history</th>\n",
       "      <th>bmi</th>\n",
       "      <th>HbA1c_level</th>\n",
       "      <th>blood_glucose_level</th>\n",
       "      <th>diabetes</th>\n",
       "    </tr>\n",
       "  </thead>\n",
       "  <tbody>\n",
       "    <tr>\n",
       "      <th>0</th>\n",
       "      <td>Female</td>\n",
       "      <td>80.0</td>\n",
       "      <td>0</td>\n",
       "      <td>1</td>\n",
       "      <td>never</td>\n",
       "      <td>25.19</td>\n",
       "      <td>6.6</td>\n",
       "      <td>140</td>\n",
       "      <td>0</td>\n",
       "    </tr>\n",
       "    <tr>\n",
       "      <th>2</th>\n",
       "      <td>Male</td>\n",
       "      <td>28.0</td>\n",
       "      <td>0</td>\n",
       "      <td>0</td>\n",
       "      <td>never</td>\n",
       "      <td>27.32</td>\n",
       "      <td>5.7</td>\n",
       "      <td>158</td>\n",
       "      <td>0</td>\n",
       "    </tr>\n",
       "    <tr>\n",
       "      <th>3</th>\n",
       "      <td>Female</td>\n",
       "      <td>36.0</td>\n",
       "      <td>0</td>\n",
       "      <td>0</td>\n",
       "      <td>current</td>\n",
       "      <td>23.45</td>\n",
       "      <td>5.0</td>\n",
       "      <td>155</td>\n",
       "      <td>0</td>\n",
       "    </tr>\n",
       "    <tr>\n",
       "      <th>4</th>\n",
       "      <td>Male</td>\n",
       "      <td>76.0</td>\n",
       "      <td>1</td>\n",
       "      <td>1</td>\n",
       "      <td>current</td>\n",
       "      <td>20.14</td>\n",
       "      <td>4.8</td>\n",
       "      <td>155</td>\n",
       "      <td>0</td>\n",
       "    </tr>\n",
       "    <tr>\n",
       "      <th>6</th>\n",
       "      <td>Female</td>\n",
       "      <td>44.0</td>\n",
       "      <td>0</td>\n",
       "      <td>0</td>\n",
       "      <td>never</td>\n",
       "      <td>19.31</td>\n",
       "      <td>6.5</td>\n",
       "      <td>200</td>\n",
       "      <td>1</td>\n",
       "    </tr>\n",
       "  </tbody>\n",
       "</table>\n",
       "</div>"
      ],
      "text/plain": [
       "   gender   age  hypertension  heart_disease smoking_history    bmi  \\\n",
       "0  Female  80.0             0              1           never  25.19   \n",
       "2    Male  28.0             0              0           never  27.32   \n",
       "3  Female  36.0             0              0         current  23.45   \n",
       "4    Male  76.0             1              1         current  20.14   \n",
       "6  Female  44.0             0              0           never  19.31   \n",
       "\n",
       "   HbA1c_level  blood_glucose_level  diabetes  \n",
       "0          6.6                  140         0  \n",
       "2          5.7                  158         0  \n",
       "3          5.0                  155         0  \n",
       "4          4.8                  155         0  \n",
       "6          6.5                  200         1  "
      ]
     },
     "execution_count": 50,
     "metadata": {},
     "output_type": "execute_result"
    }
   ],
   "source": [
    "d9.head(5)"
   ]
  },
  {
   "cell_type": "code",
   "execution_count": 51,
   "id": "115b86ce",
   "metadata": {
    "execution": {
     "iopub.execute_input": "2025-05-01T05:27:11.799689Z",
     "iopub.status.busy": "2025-05-01T05:27:11.799370Z",
     "iopub.status.idle": "2025-05-01T05:27:11.818562Z",
     "shell.execute_reply": "2025-05-01T05:27:11.817845Z"
    },
    "papermill": {
     "duration": 0.045783,
     "end_time": "2025-05-01T05:27:11.820206",
     "exception": false,
     "start_time": "2025-05-01T05:27:11.774423",
     "status": "completed"
    },
    "tags": []
   },
   "outputs": [],
   "source": [
    "d10 = pd.get_dummies(d9,columns=['gender','smoking_history'],drop_first=True,dtype=int)"
   ]
  },
  {
   "cell_type": "code",
   "execution_count": 52,
   "id": "36a08fb1",
   "metadata": {
    "execution": {
     "iopub.execute_input": "2025-05-01T05:27:11.869719Z",
     "iopub.status.busy": "2025-05-01T05:27:11.869394Z",
     "iopub.status.idle": "2025-05-01T05:27:11.881586Z",
     "shell.execute_reply": "2025-05-01T05:27:11.880740Z"
    },
    "papermill": {
     "duration": 0.038461,
     "end_time": "2025-05-01T05:27:11.882932",
     "exception": false,
     "start_time": "2025-05-01T05:27:11.844471",
     "status": "completed"
    },
    "tags": []
   },
   "outputs": [
    {
     "data": {
      "text/html": [
       "<div>\n",
       "<style scoped>\n",
       "    .dataframe tbody tr th:only-of-type {\n",
       "        vertical-align: middle;\n",
       "    }\n",
       "\n",
       "    .dataframe tbody tr th {\n",
       "        vertical-align: top;\n",
       "    }\n",
       "\n",
       "    .dataframe thead th {\n",
       "        text-align: right;\n",
       "    }\n",
       "</style>\n",
       "<table border=\"1\" class=\"dataframe\">\n",
       "  <thead>\n",
       "    <tr style=\"text-align: right;\">\n",
       "      <th></th>\n",
       "      <th>age</th>\n",
       "      <th>hypertension</th>\n",
       "      <th>heart_disease</th>\n",
       "      <th>bmi</th>\n",
       "      <th>HbA1c_level</th>\n",
       "      <th>blood_glucose_level</th>\n",
       "      <th>diabetes</th>\n",
       "      <th>gender_Male</th>\n",
       "      <th>smoking_history_ever</th>\n",
       "      <th>smoking_history_former</th>\n",
       "      <th>smoking_history_never</th>\n",
       "      <th>smoking_history_not current</th>\n",
       "    </tr>\n",
       "  </thead>\n",
       "  <tbody>\n",
       "    <tr>\n",
       "      <th>0</th>\n",
       "      <td>80.0</td>\n",
       "      <td>0</td>\n",
       "      <td>1</td>\n",
       "      <td>25.19</td>\n",
       "      <td>6.6</td>\n",
       "      <td>140</td>\n",
       "      <td>0</td>\n",
       "      <td>0</td>\n",
       "      <td>0</td>\n",
       "      <td>0</td>\n",
       "      <td>1</td>\n",
       "      <td>0</td>\n",
       "    </tr>\n",
       "    <tr>\n",
       "      <th>2</th>\n",
       "      <td>28.0</td>\n",
       "      <td>0</td>\n",
       "      <td>0</td>\n",
       "      <td>27.32</td>\n",
       "      <td>5.7</td>\n",
       "      <td>158</td>\n",
       "      <td>0</td>\n",
       "      <td>1</td>\n",
       "      <td>0</td>\n",
       "      <td>0</td>\n",
       "      <td>1</td>\n",
       "      <td>0</td>\n",
       "    </tr>\n",
       "    <tr>\n",
       "      <th>3</th>\n",
       "      <td>36.0</td>\n",
       "      <td>0</td>\n",
       "      <td>0</td>\n",
       "      <td>23.45</td>\n",
       "      <td>5.0</td>\n",
       "      <td>155</td>\n",
       "      <td>0</td>\n",
       "      <td>0</td>\n",
       "      <td>0</td>\n",
       "      <td>0</td>\n",
       "      <td>0</td>\n",
       "      <td>0</td>\n",
       "    </tr>\n",
       "    <tr>\n",
       "      <th>4</th>\n",
       "      <td>76.0</td>\n",
       "      <td>1</td>\n",
       "      <td>1</td>\n",
       "      <td>20.14</td>\n",
       "      <td>4.8</td>\n",
       "      <td>155</td>\n",
       "      <td>0</td>\n",
       "      <td>1</td>\n",
       "      <td>0</td>\n",
       "      <td>0</td>\n",
       "      <td>0</td>\n",
       "      <td>0</td>\n",
       "    </tr>\n",
       "    <tr>\n",
       "      <th>6</th>\n",
       "      <td>44.0</td>\n",
       "      <td>0</td>\n",
       "      <td>0</td>\n",
       "      <td>19.31</td>\n",
       "      <td>6.5</td>\n",
       "      <td>200</td>\n",
       "      <td>1</td>\n",
       "      <td>0</td>\n",
       "      <td>0</td>\n",
       "      <td>0</td>\n",
       "      <td>1</td>\n",
       "      <td>0</td>\n",
       "    </tr>\n",
       "  </tbody>\n",
       "</table>\n",
       "</div>"
      ],
      "text/plain": [
       "    age  hypertension  heart_disease    bmi  HbA1c_level  blood_glucose_level  \\\n",
       "0  80.0             0              1  25.19          6.6                  140   \n",
       "2  28.0             0              0  27.32          5.7                  158   \n",
       "3  36.0             0              0  23.45          5.0                  155   \n",
       "4  76.0             1              1  20.14          4.8                  155   \n",
       "6  44.0             0              0  19.31          6.5                  200   \n",
       "\n",
       "   diabetes  gender_Male  smoking_history_ever  smoking_history_former  \\\n",
       "0         0            0                     0                       0   \n",
       "2         0            1                     0                       0   \n",
       "3         0            0                     0                       0   \n",
       "4         0            1                     0                       0   \n",
       "6         1            0                     0                       0   \n",
       "\n",
       "   smoking_history_never  smoking_history_not current  \n",
       "0                      1                            0  \n",
       "2                      1                            0  \n",
       "3                      0                            0  \n",
       "4                      0                            0  \n",
       "6                      1                            0  "
      ]
     },
     "execution_count": 52,
     "metadata": {},
     "output_type": "execute_result"
    }
   ],
   "source": [
    "d10.head(5)"
   ]
  },
  {
   "cell_type": "code",
   "execution_count": 53,
   "id": "39557224",
   "metadata": {
    "execution": {
     "iopub.execute_input": "2025-05-01T05:27:11.932914Z",
     "iopub.status.busy": "2025-05-01T05:27:11.932550Z",
     "iopub.status.idle": "2025-05-01T05:27:12.689364Z",
     "shell.execute_reply": "2025-05-01T05:27:12.688112Z"
    },
    "papermill": {
     "duration": 0.785399,
     "end_time": "2025-05-01T05:27:12.692902",
     "exception": false,
     "start_time": "2025-05-01T05:27:11.907503",
     "status": "completed"
    },
    "tags": []
   },
   "outputs": [
    {
     "data": {
      "text/plain": [
       "<Axes: >"
      ]
     },
     "execution_count": 53,
     "metadata": {},
     "output_type": "execute_result"
    },
    {
     "data": {
      "image/png": "[encoded data removed]",
      "text/plain": [
       "<Figure size 1200x600 with 2 Axes>"
      ]
     },
     "metadata": {},
     "output_type": "display_data"
    }
   ],
   "source": [
    "plt.figure(figsize=(12,6))\n",
    "sns.heatmap(d10.corr(),annot=True,cmap=\"coolwarm\")"
   ]
  },
  {
   "cell_type": "code",
   "execution_count": 54,
   "id": "5a59636b",
   "metadata": {
    "execution": {
     "iopub.execute_input": "2025-05-01T05:27:12.751037Z",
     "iopub.status.busy": "2025-05-01T05:27:12.750660Z",
     "iopub.status.idle": "2025-05-01T05:27:12.764180Z",
     "shell.execute_reply": "2025-05-01T05:27:12.763327Z"
    },
    "papermill": {
     "duration": 0.043805,
     "end_time": "2025-05-01T05:27:12.765532",
     "exception": false,
     "start_time": "2025-05-01T05:27:12.721727",
     "status": "completed"
    },
    "tags": []
   },
   "outputs": [
    {
     "data": {
      "text/html": [
       "<div>\n",
       "<style scoped>\n",
       "    .dataframe tbody tr th:only-of-type {\n",
       "        vertical-align: middle;\n",
       "    }\n",
       "\n",
       "    .dataframe tbody tr th {\n",
       "        vertical-align: top;\n",
       "    }\n",
       "\n",
       "    .dataframe thead th {\n",
       "        text-align: right;\n",
       "    }\n",
       "</style>\n",
       "<table border=\"1\" class=\"dataframe\">\n",
       "  <thead>\n",
       "    <tr style=\"text-align: right;\">\n",
       "      <th></th>\n",
       "      <th>age</th>\n",
       "      <th>hypertension</th>\n",
       "      <th>heart_disease</th>\n",
       "      <th>bmi</th>\n",
       "      <th>HbA1c_level</th>\n",
       "      <th>blood_glucose_level</th>\n",
       "      <th>gender_Male</th>\n",
       "      <th>smoking_history_ever</th>\n",
       "      <th>smoking_history_former</th>\n",
       "      <th>smoking_history_never</th>\n",
       "      <th>smoking_history_not current</th>\n",
       "    </tr>\n",
       "  </thead>\n",
       "  <tbody>\n",
       "    <tr>\n",
       "      <th>0</th>\n",
       "      <td>80.0</td>\n",
       "      <td>0</td>\n",
       "      <td>1</td>\n",
       "      <td>25.19</td>\n",
       "      <td>6.6</td>\n",
       "      <td>140</td>\n",
       "      <td>0</td>\n",
       "      <td>0</td>\n",
       "      <td>0</td>\n",
       "      <td>1</td>\n",
       "      <td>0</td>\n",
       "    </tr>\n",
       "    <tr>\n",
       "      <th>2</th>\n",
       "      <td>28.0</td>\n",
       "      <td>0</td>\n",
       "      <td>0</td>\n",
       "      <td>27.32</td>\n",
       "      <td>5.7</td>\n",
       "      <td>158</td>\n",
       "      <td>1</td>\n",
       "      <td>0</td>\n",
       "      <td>0</td>\n",
       "      <td>1</td>\n",
       "      <td>0</td>\n",
       "    </tr>\n",
       "    <tr>\n",
       "      <th>3</th>\n",
       "      <td>36.0</td>\n",
       "      <td>0</td>\n",
       "      <td>0</td>\n",
       "      <td>23.45</td>\n",
       "      <td>5.0</td>\n",
       "      <td>155</td>\n",
       "      <td>0</td>\n",
       "      <td>0</td>\n",
       "      <td>0</td>\n",
       "      <td>0</td>\n",
       "      <td>0</td>\n",
       "    </tr>\n",
       "    <tr>\n",
       "      <th>4</th>\n",
       "      <td>76.0</td>\n",
       "      <td>1</td>\n",
       "      <td>1</td>\n",
       "      <td>20.14</td>\n",
       "      <td>4.8</td>\n",
       "      <td>155</td>\n",
       "      <td>1</td>\n",
       "      <td>0</td>\n",
       "      <td>0</td>\n",
       "      <td>0</td>\n",
       "      <td>0</td>\n",
       "    </tr>\n",
       "    <tr>\n",
       "      <th>6</th>\n",
       "      <td>44.0</td>\n",
       "      <td>0</td>\n",
       "      <td>0</td>\n",
       "      <td>19.31</td>\n",
       "      <td>6.5</td>\n",
       "      <td>200</td>\n",
       "      <td>0</td>\n",
       "      <td>0</td>\n",
       "      <td>0</td>\n",
       "      <td>1</td>\n",
       "      <td>0</td>\n",
       "    </tr>\n",
       "  </tbody>\n",
       "</table>\n",
       "</div>"
      ],
      "text/plain": [
       "    age  hypertension  heart_disease    bmi  HbA1c_level  blood_glucose_level  \\\n",
       "0  80.0             0              1  25.19          6.6                  140   \n",
       "2  28.0             0              0  27.32          5.7                  158   \n",
       "3  36.0             0              0  23.45          5.0                  155   \n",
       "4  76.0             1              1  20.14          4.8                  155   \n",
       "6  44.0             0              0  19.31          6.5                  200   \n",
       "\n",
       "   gender_Male  smoking_history_ever  smoking_history_former  \\\n",
       "0            0                     0                       0   \n",
       "2            1                     0                       0   \n",
       "3            0                     0                       0   \n",
       "4            1                     0                       0   \n",
       "6            0                     0                       0   \n",
       "\n",
       "   smoking_history_never  smoking_history_not current  \n",
       "0                      1                            0  \n",
       "2                      1                            0  \n",
       "3                      0                            0  \n",
       "4                      0                            0  \n",
       "6                      1                            0  "
      ]
     },
     "execution_count": 54,
     "metadata": {},
     "output_type": "execute_result"
    }
   ],
   "source": [
    "X = d10.drop('diabetes',axis='columns')\n",
    "X.head(5)"
   ]
  },
  {
   "cell_type": "code",
   "execution_count": 55,
   "id": "db97a251",
   "metadata": {
    "execution": {
     "iopub.execute_input": "2025-05-01T05:27:12.822946Z",
     "iopub.status.busy": "2025-05-01T05:27:12.822598Z",
     "iopub.status.idle": "2025-05-01T05:27:12.828557Z",
     "shell.execute_reply": "2025-05-01T05:27:12.827705Z"
    },
    "papermill": {
     "duration": 0.036304,
     "end_time": "2025-05-01T05:27:12.830013",
     "exception": false,
     "start_time": "2025-05-01T05:27:12.793709",
     "status": "completed"
    },
    "tags": []
   },
   "outputs": [
    {
     "data": {
      "text/plain": [
       "0    0\n",
       "2    0\n",
       "3    0\n",
       "4    0\n",
       "6    1\n",
       "Name: diabetes, dtype: int64"
      ]
     },
     "execution_count": 55,
     "metadata": {},
     "output_type": "execute_result"
    }
   ],
   "source": [
    "Y = d10['diabetes']\n",
    "Y.head(5)"
   ]
  },
  {
   "cell_type": "code",
   "execution_count": 56,
   "id": "5c218771",
   "metadata": {
    "execution": {
     "iopub.execute_input": "2025-05-01T05:27:12.887222Z",
     "iopub.status.busy": "2025-05-01T05:27:12.886888Z",
     "iopub.status.idle": "2025-05-01T05:27:13.144262Z",
     "shell.execute_reply": "2025-05-01T05:27:13.143477Z"
    },
    "papermill": {
     "duration": 0.287856,
     "end_time": "2025-05-01T05:27:13.146003",
     "exception": false,
     "start_time": "2025-05-01T05:27:12.858147",
     "status": "completed"
    },
    "tags": []
   },
   "outputs": [],
   "source": [
    "from sklearn.model_selection import train_test_split\n",
    "X_train, X_test, Y_train, Y_test = train_test_split(X, Y, test_size=0.2, shuffle=True, random_state= 42,stratify=Y)"
   ]
  },
  {
   "cell_type": "code",
   "execution_count": 57,
   "id": "caebd9cd",
   "metadata": {
    "execution": {
     "iopub.execute_input": "2025-05-01T05:27:13.207324Z",
     "iopub.status.busy": "2025-05-01T05:27:13.206850Z",
     "iopub.status.idle": "2025-05-01T05:27:13.220150Z",
     "shell.execute_reply": "2025-05-01T05:27:13.219270Z"
    },
    "papermill": {
     "duration": 0.047021,
     "end_time": "2025-05-01T05:27:13.221492",
     "exception": false,
     "start_time": "2025-05-01T05:27:13.174471",
     "status": "completed"
    },
    "tags": []
   },
   "outputs": [
    {
     "data": {
      "text/html": [
       "<div>\n",
       "<style scoped>\n",
       "    .dataframe tbody tr th:only-of-type {\n",
       "        vertical-align: middle;\n",
       "    }\n",
       "\n",
       "    .dataframe tbody tr th {\n",
       "        vertical-align: top;\n",
       "    }\n",
       "\n",
       "    .dataframe thead th {\n",
       "        text-align: right;\n",
       "    }\n",
       "</style>\n",
       "<table border=\"1\" class=\"dataframe\">\n",
       "  <thead>\n",
       "    <tr style=\"text-align: right;\">\n",
       "      <th></th>\n",
       "      <th>age</th>\n",
       "      <th>hypertension</th>\n",
       "      <th>heart_disease</th>\n",
       "      <th>bmi</th>\n",
       "      <th>HbA1c_level</th>\n",
       "      <th>blood_glucose_level</th>\n",
       "      <th>gender_Male</th>\n",
       "      <th>smoking_history_ever</th>\n",
       "      <th>smoking_history_former</th>\n",
       "      <th>smoking_history_never</th>\n",
       "      <th>smoking_history_not current</th>\n",
       "    </tr>\n",
       "  </thead>\n",
       "  <tbody>\n",
       "    <tr>\n",
       "      <th>65611</th>\n",
       "      <td>80.0</td>\n",
       "      <td>0</td>\n",
       "      <td>0</td>\n",
       "      <td>31.39</td>\n",
       "      <td>5.7</td>\n",
       "      <td>100</td>\n",
       "      <td>1</td>\n",
       "      <td>0</td>\n",
       "      <td>0</td>\n",
       "      <td>0</td>\n",
       "      <td>1</td>\n",
       "    </tr>\n",
       "    <tr>\n",
       "      <th>56099</th>\n",
       "      <td>46.0</td>\n",
       "      <td>0</td>\n",
       "      <td>0</td>\n",
       "      <td>32.98</td>\n",
       "      <td>3.5</td>\n",
       "      <td>159</td>\n",
       "      <td>1</td>\n",
       "      <td>0</td>\n",
       "      <td>0</td>\n",
       "      <td>1</td>\n",
       "      <td>0</td>\n",
       "    </tr>\n",
       "    <tr>\n",
       "      <th>46773</th>\n",
       "      <td>52.0</td>\n",
       "      <td>0</td>\n",
       "      <td>0</td>\n",
       "      <td>30.17</td>\n",
       "      <td>7.5</td>\n",
       "      <td>126</td>\n",
       "      <td>1</td>\n",
       "      <td>0</td>\n",
       "      <td>0</td>\n",
       "      <td>0</td>\n",
       "      <td>0</td>\n",
       "    </tr>\n",
       "    <tr>\n",
       "      <th>73995</th>\n",
       "      <td>30.0</td>\n",
       "      <td>0</td>\n",
       "      <td>0</td>\n",
       "      <td>37.87</td>\n",
       "      <td>5.0</td>\n",
       "      <td>145</td>\n",
       "      <td>0</td>\n",
       "      <td>0</td>\n",
       "      <td>0</td>\n",
       "      <td>1</td>\n",
       "      <td>0</td>\n",
       "    </tr>\n",
       "    <tr>\n",
       "      <th>56281</th>\n",
       "      <td>63.0</td>\n",
       "      <td>0</td>\n",
       "      <td>0</td>\n",
       "      <td>25.00</td>\n",
       "      <td>6.2</td>\n",
       "      <td>159</td>\n",
       "      <td>0</td>\n",
       "      <td>0</td>\n",
       "      <td>0</td>\n",
       "      <td>1</td>\n",
       "      <td>0</td>\n",
       "    </tr>\n",
       "  </tbody>\n",
       "</table>\n",
       "</div>"
      ],
      "text/plain": [
       "        age  hypertension  heart_disease    bmi  HbA1c_level  \\\n",
       "65611  80.0             0              0  31.39          5.7   \n",
       "56099  46.0             0              0  32.98          3.5   \n",
       "46773  52.0             0              0  30.17          7.5   \n",
       "73995  30.0             0              0  37.87          5.0   \n",
       "56281  63.0             0              0  25.00          6.2   \n",
       "\n",
       "       blood_glucose_level  gender_Male  smoking_history_ever  \\\n",
       "65611                  100            1                     0   \n",
       "56099                  159            1                     0   \n",
       "46773                  126            1                     0   \n",
       "73995                  145            0                     0   \n",
       "56281                  159            0                     0   \n",
       "\n",
       "       smoking_history_former  smoking_history_never  \\\n",
       "65611                       0                      0   \n",
       "56099                       0                      1   \n",
       "46773                       0                      0   \n",
       "73995                       0                      1   \n",
       "56281                       0                      1   \n",
       "\n",
       "       smoking_history_not current  \n",
       "65611                            1  \n",
       "56099                            0  \n",
       "46773                            0  \n",
       "73995                            0  \n",
       "56281                            0  "
      ]
     },
     "execution_count": 57,
     "metadata": {},
     "output_type": "execute_result"
    }
   ],
   "source": [
    "X_test.head(5)"
   ]
  },
  {
   "cell_type": "code",
   "execution_count": 58,
   "id": "ed6ce6a4",
   "metadata": {
    "execution": {
     "iopub.execute_input": "2025-05-01T05:27:13.281155Z",
     "iopub.status.busy": "2025-05-01T05:27:13.280791Z",
     "iopub.status.idle": "2025-05-01T05:27:13.286502Z",
     "shell.execute_reply": "2025-05-01T05:27:13.285730Z"
    },
    "papermill": {
     "duration": 0.037579,
     "end_time": "2025-05-01T05:27:13.287899",
     "exception": false,
     "start_time": "2025-05-01T05:27:13.250320",
     "status": "completed"
    },
    "tags": []
   },
   "outputs": [
    {
     "data": {
      "text/plain": [
       "65611    0\n",
       "56099    0\n",
       "46773    1\n",
       "73995    0\n",
       "56281    0\n",
       "Name: diabetes, dtype: int64"
      ]
     },
     "execution_count": 58,
     "metadata": {},
     "output_type": "execute_result"
    }
   ],
   "source": [
    "Y_test.head(5)"
   ]
  },
  {
   "cell_type": "code",
   "execution_count": 59,
   "id": "9a90daa0",
   "metadata": {
    "execution": {
     "iopub.execute_input": "2025-05-01T05:27:13.354909Z",
     "iopub.status.busy": "2025-05-01T05:27:13.354400Z",
     "iopub.status.idle": "2025-05-01T05:27:13.698898Z",
     "shell.execute_reply": "2025-05-01T05:27:13.698051Z"
    },
    "papermill": {
     "duration": 0.38411,
     "end_time": "2025-05-01T05:27:13.700662",
     "exception": false,
     "start_time": "2025-05-01T05:27:13.316552",
     "status": "completed"
    },
    "tags": []
   },
   "outputs": [],
   "source": [
    "from sklearn.tree import DecisionTreeClassifier\n",
    "\n",
    "dtc = DecisionTreeClassifier()"
   ]
  },
  {
   "cell_type": "code",
   "execution_count": 60,
   "id": "f5567788",
   "metadata": {
    "execution": {
     "iopub.execute_input": "2025-05-01T05:27:13.759768Z",
     "iopub.status.busy": "2025-05-01T05:27:13.759438Z",
     "iopub.status.idle": "2025-05-01T05:27:13.869876Z",
     "shell.execute_reply": "2025-05-01T05:27:13.868945Z"
    },
    "papermill": {
     "duration": 0.141555,
     "end_time": "2025-05-01T05:27:13.871480",
     "exception": false,
     "start_time": "2025-05-01T05:27:13.729925",
     "status": "completed"
    },
    "tags": []
   },
   "outputs": [
    {
     "data": {
      "text/html": [
       "<style>#sk-container-id-1 {color: black;background-color: white;}#sk-container-id-1 pre{padding: 0;}#sk-container-id-1 div.sk-toggleable {background-color: white;}#sk-container-id-1 label.sk-toggleable__label {cursor: pointer;display: block;width: 100%;margin-bottom: 0;padding: 0.3em;box-sizing: border-box;text-align: center;}#sk-container-id-1 label.sk-toggleable__label-arrow:before {content: \"▸\";float: left;margin-right: 0.25em;color: #696969;}#sk-container-id-1 label.sk-toggleable__label-arrow:hover:before {color: black;}#sk-container-id-1 div.sk-estimator:hover label.sk-toggleable__label-arrow:before {color: black;}#sk-container-id-1 div.sk-toggleable__content {max-height: 0;max-width: 0;overflow: hidden;text-align: left;background-color: #f0f8ff;}#sk-container-id-1 div.sk-toggleable__content pre {margin: 0.2em;color: black;border-radius: 0.25em;background-color: #f0f8ff;}#sk-container-id-1 input.sk-toggleable__control:checked~div.sk-toggleable__content {max-height: 200px;max-width: 100%;overflow: auto;}#sk-container-id-1 input.sk-toggleable__control:checked~label.sk-toggleable__label-arrow:before {content: \"▾\";}#sk-container-id-1 div.sk-estimator input.sk-toggleable__control:checked~label.sk-toggleable__label {background-color: #d4ebff;}#sk-container-id-1 div.sk-label input.sk-toggleable__control:checked~label.sk-toggleable__label {background-color: #d4ebff;}#sk-container-id-1 input.sk-hidden--visually {border: 0;clip: rect(1px 1px 1px 1px);clip: rect(1px, 1px, 1px, 1px);height: 1px;margin: -1px;overflow: hidden;padding: 0;position: absolute;width: 1px;}#sk-container-id-1 div.sk-estimator {font-family: monospace;background-color: #f0f8ff;border: 1px dotted black;border-radius: 0.25em;box-sizing: border-box;margin-bottom: 0.5em;}#sk-container-id-1 div.sk-estimator:hover {background-color: #d4ebff;}#sk-container-id-1 div.sk-parallel-item::after {content: \"\";width: 100%;border-bottom: 1px solid gray;flex-grow: 1;}#sk-container-id-1 div.sk-label:hover label.sk-toggleable__label {background-color: #d4ebff;}#sk-container-id-1 div.sk-serial::before {content: \"\";position: absolute;border-left: 1px solid gray;box-sizing: border-box;top: 0;bottom: 0;left: 50%;z-index: 0;}#sk-container-id-1 div.sk-serial {display: flex;flex-direction: column;align-items: center;background-color: white;padding-right: 0.2em;padding-left: 0.2em;position: relative;}#sk-container-id-1 div.sk-item {position: relative;z-index: 1;}#sk-container-id-1 div.sk-parallel {display: flex;align-items: stretch;justify-content: center;background-color: white;position: relative;}#sk-container-id-1 div.sk-item::before, #sk-container-id-1 div.sk-parallel-item::before {content: \"\";position: absolute;border-left: 1px solid gray;box-sizing: border-box;top: 0;bottom: 0;left: 50%;z-index: -1;}#sk-container-id-1 div.sk-parallel-item {display: flex;flex-direction: column;z-index: 1;position: relative;background-color: white;}#sk-container-id-1 div.sk-parallel-item:first-child::after {align-self: flex-end;width: 50%;}#sk-container-id-1 div.sk-parallel-item:last-child::after {align-self: flex-start;width: 50%;}#sk-container-id-1 div.sk-parallel-item:only-child::after {width: 0;}#sk-container-id-1 div.sk-dashed-wrapped {border: 1px dashed gray;margin: 0 0.4em 0.5em 0.4em;box-sizing: border-box;padding-bottom: 0.4em;background-color: white;}#sk-container-id-1 div.sk-label label {font-family: monospace;font-weight: bold;display: inline-block;line-height: 1.2em;}#sk-container-id-1 div.sk-label-container {text-align: center;}#sk-container-id-1 div.sk-container {/* jupyter's `normalize.less` sets `[hidden] { display: none; }` but bootstrap.min.css set `[hidden] { display: none !important; }` so we also need the `!important` here to be able to override the default hidden behavior on the sphinx rendered scikit-learn.org. See: https://github.com/scikit-learn/scikit-learn/issues/21755 */display: inline-block !important;position: relative;}#sk-container-id-1 div.sk-text-repr-fallback {display: none;}</style><div id=\"sk-container-id-1\" class=\"sk-top-container\"><div class=\"sk-text-repr-fallback\"><pre>DecisionTreeClassifier()</pre><b>In a Jupyter environment, please rerun this cell to show the HTML representation or trust the notebook. <br />On GitHub, the HTML representation is unable to render, please try loading this page with nbviewer.org.</b></div><div class=\"sk-container\" hidden><div class=\"sk-item\"><div class=\"sk-estimator sk-toggleable\"><input class=\"sk-toggleable__control sk-hidden--visually\" id=\"sk-estimator-id-1\" type=\"checkbox\" checked><label for=\"sk-estimator-id-1\" class=\"sk-toggleable__label sk-toggleable__label-arrow\">DecisionTreeClassifier</label><div class=\"sk-toggleable__content\"><pre>DecisionTreeClassifier()</pre></div></div></div></div></div>"
      ],
      "text/plain": [
       "DecisionTreeClassifier()"
      ]
     },
     "execution_count": 60,
     "metadata": {},
     "output_type": "execute_result"
    }
   ],
   "source": [
    "dtc.fit(X_train,Y_train)"
   ]
  },
  {
   "cell_type": "code",
   "execution_count": 61,
   "id": "2186cdd6",
   "metadata": {
    "execution": {
     "iopub.execute_input": "2025-05-01T05:27:13.933050Z",
     "iopub.status.busy": "2025-05-01T05:27:13.932632Z",
     "iopub.status.idle": "2025-05-01T05:27:13.939612Z",
     "shell.execute_reply": "2025-05-01T05:27:13.938908Z"
    },
    "papermill": {
     "duration": 0.039473,
     "end_time": "2025-05-01T05:27:13.941133",
     "exception": false,
     "start_time": "2025-05-01T05:27:13.901660",
     "status": "completed"
    },
    "tags": []
   },
   "outputs": [],
   "source": [
    "y_pred = dtc.predict(X_test)"
   ]
  },
  {
   "cell_type": "code",
   "execution_count": 62,
   "id": "3adfa2f0",
   "metadata": {
    "execution": {
     "iopub.execute_input": "2025-05-01T05:27:14.002256Z",
     "iopub.status.busy": "2025-05-01T05:27:14.001901Z",
     "iopub.status.idle": "2025-05-01T05:27:14.007082Z",
     "shell.execute_reply": "2025-05-01T05:27:14.006163Z"
    },
    "papermill": {
     "duration": 0.037358,
     "end_time": "2025-05-01T05:27:14.008473",
     "exception": false,
     "start_time": "2025-05-01T05:27:13.971115",
     "status": "completed"
    },
    "tags": []
   },
   "outputs": [
    {
     "data": {
      "text/plain": [
       "pandas.core.frame.DataFrame"
      ]
     },
     "execution_count": 62,
     "metadata": {},
     "output_type": "execute_result"
    }
   ],
   "source": [
    "type(X_test)"
   ]
  },
  {
   "cell_type": "code",
   "execution_count": 63,
   "id": "5e97ce27",
   "metadata": {
    "execution": {
     "iopub.execute_input": "2025-05-01T05:27:14.070493Z",
     "iopub.status.busy": "2025-05-01T05:27:14.070171Z",
     "iopub.status.idle": "2025-05-01T05:27:14.075784Z",
     "shell.execute_reply": "2025-05-01T05:27:14.074875Z"
    },
    "papermill": {
     "duration": 0.038311,
     "end_time": "2025-05-01T05:27:14.077266",
     "exception": false,
     "start_time": "2025-05-01T05:27:14.038955",
     "status": "completed"
    },
    "tags": []
   },
   "outputs": [
    {
     "data": {
      "text/plain": [
       "pandas.core.series.Series"
      ]
     },
     "execution_count": 63,
     "metadata": {},
     "output_type": "execute_result"
    }
   ],
   "source": [
    "type(X_test.iloc[0])"
   ]
  },
  {
   "cell_type": "code",
   "execution_count": 64,
   "id": "2414c127",
   "metadata": {
    "execution": {
     "iopub.execute_input": "2025-05-01T05:27:14.139569Z",
     "iopub.status.busy": "2025-05-01T05:27:14.139251Z",
     "iopub.status.idle": "2025-05-01T05:27:14.147209Z",
     "shell.execute_reply": "2025-05-01T05:27:14.146167Z"
    },
    "papermill": {
     "duration": 0.040716,
     "end_time": "2025-05-01T05:27:14.148696",
     "exception": false,
     "start_time": "2025-05-01T05:27:14.107980",
     "status": "completed"
    },
    "tags": []
   },
   "outputs": [
    {
     "name": "stdout",
     "output_type": "stream",
     "text": [
      "[[ 52.     0.     0.    30.17   7.5  126.     1.     0.     0.     0.\n",
      "    0.  ]]\n",
      "[1]\n"
     ]
    },
    {
     "name": "stderr",
     "output_type": "stream",
     "text": [
      "/usr/local/lib/python3.10/dist-packages/sklearn/base.py:439: UserWarning: X does not have valid feature names, but DecisionTreeClassifier was fitted with feature names\n",
      "  warnings.warn(\n"
     ]
    }
   ],
   "source": [
    "import numpy as np\n",
    "xy = np.array([[52.0,0,0,30.17,7.5,126,1,0,0,0,0]])\n",
    "print(xy)\n",
    "print(dtc.predict(xy))"
   ]
  },
  {
   "cell_type": "code",
   "execution_count": 65,
   "id": "96786269",
   "metadata": {
    "execution": {
     "iopub.execute_input": "2025-05-01T05:27:14.212043Z",
     "iopub.status.busy": "2025-05-01T05:27:14.211660Z",
     "iopub.status.idle": "2025-05-01T05:27:14.222019Z",
     "shell.execute_reply": "2025-05-01T05:27:14.221070Z"
    },
    "papermill": {
     "duration": 0.043693,
     "end_time": "2025-05-01T05:27:14.223466",
     "exception": false,
     "start_time": "2025-05-01T05:27:14.179773",
     "status": "completed"
    },
    "tags": []
   },
   "outputs": [
    {
     "data": {
      "text/plain": [
       "0.9212311928409873"
      ]
     },
     "execution_count": 65,
     "metadata": {},
     "output_type": "execute_result"
    }
   ],
   "source": [
    "dtc.score(X_test,Y_test)"
   ]
  },
  {
   "cell_type": "code",
   "execution_count": 66,
   "id": "49e2942c",
   "metadata": {
    "execution": {
     "iopub.execute_input": "2025-05-01T05:27:14.287958Z",
     "iopub.status.busy": "2025-05-01T05:27:14.287574Z",
     "iopub.status.idle": "2025-05-01T05:27:14.293509Z",
     "shell.execute_reply": "2025-05-01T05:27:14.292572Z"
    },
    "papermill": {
     "duration": 0.040193,
     "end_time": "2025-05-01T05:27:14.295217",
     "exception": false,
     "start_time": "2025-05-01T05:27:14.255024",
     "status": "completed"
    },
    "tags": []
   },
   "outputs": [],
   "source": [
    "from sklearn.metrics import accuracy_score, confusion_matrix\n",
    "\n",
    "accuracy = accuracy_score(Y_test,y_pred)"
   ]
  },
  {
   "cell_type": "code",
   "execution_count": 67,
   "id": "34f7d506",
   "metadata": {
    "execution": {
     "iopub.execute_input": "2025-05-01T05:27:14.358480Z",
     "iopub.status.busy": "2025-05-01T05:27:14.358125Z",
     "iopub.status.idle": "2025-05-01T05:27:14.363522Z",
     "shell.execute_reply": "2025-05-01T05:27:14.362622Z"
    },
    "papermill": {
     "duration": 0.039235,
     "end_time": "2025-05-01T05:27:14.365308",
     "exception": false,
     "start_time": "2025-05-01T05:27:14.326073",
     "status": "completed"
    },
    "tags": []
   },
   "outputs": [
    {
     "data": {
      "text/plain": [
       "0.9212311928409873"
      ]
     },
     "execution_count": 67,
     "metadata": {},
     "output_type": "execute_result"
    }
   ],
   "source": [
    "accuracy"
   ]
  },
  {
   "cell_type": "code",
   "execution_count": 68,
   "id": "b296b240",
   "metadata": {
    "execution": {
     "iopub.execute_input": "2025-05-01T05:27:14.430544Z",
     "iopub.status.busy": "2025-05-01T05:27:14.430212Z",
     "iopub.status.idle": "2025-05-01T05:27:14.436958Z",
     "shell.execute_reply": "2025-05-01T05:27:14.436015Z"
    },
    "papermill": {
     "duration": 0.04147,
     "end_time": "2025-05-01T05:27:14.438583",
     "exception": false,
     "start_time": "2025-05-01T05:27:14.397113",
     "status": "completed"
    },
    "tags": []
   },
   "outputs": [],
   "source": [
    "cm = confusion_matrix(Y_test,y_pred)"
   ]
  },
  {
   "cell_type": "code",
   "execution_count": 69,
   "id": "27ec9c78",
   "metadata": {
    "execution": {
     "iopub.execute_input": "2025-05-01T05:27:14.501342Z",
     "iopub.status.busy": "2025-05-01T05:27:14.500962Z",
     "iopub.status.idle": "2025-05-01T05:27:14.506289Z",
     "shell.execute_reply": "2025-05-01T05:27:14.505376Z"
    },
    "papermill": {
     "duration": 0.038395,
     "end_time": "2025-05-01T05:27:14.507771",
     "exception": false,
     "start_time": "2025-05-01T05:27:14.469376",
     "status": "completed"
    },
    "tags": []
   },
   "outputs": [
    {
     "data": {
      "text/plain": [
       "array([[8853,  423],\n",
       "       [ 378,  515]])"
      ]
     },
     "execution_count": 69,
     "metadata": {},
     "output_type": "execute_result"
    }
   ],
   "source": [
    "cm"
   ]
  },
  {
   "cell_type": "code",
   "execution_count": 70,
   "id": "0c182d0a",
   "metadata": {
    "execution": {
     "iopub.execute_input": "2025-05-01T05:27:14.570734Z",
     "iopub.status.busy": "2025-05-01T05:27:14.570376Z",
     "iopub.status.idle": "2025-05-01T05:27:15.093916Z",
     "shell.execute_reply": "2025-05-01T05:27:15.092917Z"
    },
    "papermill": {
     "duration": 0.557208,
     "end_time": "2025-05-01T05:27:15.095692",
     "exception": false,
     "start_time": "2025-05-01T05:27:14.538484",
     "status": "completed"
    },
    "tags": []
   },
   "outputs": [],
   "source": [
    "from sklearn.model_selection import cross_val_score, StratifiedKFold\n",
    "\n",
    "cv = StratifiedKFold(n_splits=5, shuffle=True, random_state=42)\n",
    "cross_val_results = cross_val_score(DecisionTreeClassifier(), X, Y, cv=cv)"
   ]
  },
  {
   "cell_type": "code",
   "execution_count": 71,
   "id": "5062e8bd",
   "metadata": {
    "execution": {
     "iopub.execute_input": "2025-05-01T05:27:15.158795Z",
     "iopub.status.busy": "2025-05-01T05:27:15.158478Z",
     "iopub.status.idle": "2025-05-01T05:27:15.163666Z",
     "shell.execute_reply": "2025-05-01T05:27:15.162780Z"
    },
    "papermill": {
     "duration": 0.038295,
     "end_time": "2025-05-01T05:27:15.165073",
     "exception": false,
     "start_time": "2025-05-01T05:27:15.126778",
     "status": "completed"
    },
    "tags": []
   },
   "outputs": [
    {
     "data": {
      "text/plain": [
       "array([0.92536139, 0.9254524 , 0.92496066, 0.91955153, 0.92427223])"
      ]
     },
     "execution_count": 71,
     "metadata": {},
     "output_type": "execute_result"
    }
   ],
   "source": [
    "cross_val_results"
   ]
  },
  {
   "cell_type": "code",
   "execution_count": 72,
   "id": "558d0e86",
   "metadata": {
    "execution": {
     "iopub.execute_input": "2025-05-01T05:27:15.228794Z",
     "iopub.status.busy": "2025-05-01T05:27:15.228446Z",
     "iopub.status.idle": "2025-05-01T05:27:18.143305Z",
     "shell.execute_reply": "2025-05-01T05:27:18.142310Z"
    },
    "papermill": {
     "duration": 2.948783,
     "end_time": "2025-05-01T05:27:18.144719",
     "exception": false,
     "start_time": "2025-05-01T05:27:15.195936",
     "status": "completed"
    },
    "tags": []
   },
   "outputs": [
    {
     "data": {
      "text/html": [
       "<style>#sk-container-id-2 {color: black;background-color: white;}#sk-container-id-2 pre{padding: 0;}#sk-container-id-2 div.sk-toggleable {background-color: white;}#sk-container-id-2 label.sk-toggleable__label {cursor: pointer;display: block;width: 100%;margin-bottom: 0;padding: 0.3em;box-sizing: border-box;text-align: center;}#sk-container-id-2 label.sk-toggleable__label-arrow:before {content: \"▸\";float: left;margin-right: 0.25em;color: #696969;}#sk-container-id-2 label.sk-toggleable__label-arrow:hover:before {color: black;}#sk-container-id-2 div.sk-estimator:hover label.sk-toggleable__label-arrow:before {color: black;}#sk-container-id-2 div.sk-toggleable__content {max-height: 0;max-width: 0;overflow: hidden;text-align: left;background-color: #f0f8ff;}#sk-container-id-2 div.sk-toggleable__content pre {margin: 0.2em;color: black;border-radius: 0.25em;background-color: #f0f8ff;}#sk-container-id-2 input.sk-toggleable__control:checked~div.sk-toggleable__content {max-height: 200px;max-width: 100%;overflow: auto;}#sk-container-id-2 input.sk-toggleable__control:checked~label.sk-toggleable__label-arrow:before {content: \"▾\";}#sk-container-id-2 div.sk-estimator input.sk-toggleable__control:checked~label.sk-toggleable__label {background-color: #d4ebff;}#sk-container-id-2 div.sk-label input.sk-toggleable__control:checked~label.sk-toggleable__label {background-color: #d4ebff;}#sk-container-id-2 input.sk-hidden--visually {border: 0;clip: rect(1px 1px 1px 1px);clip: rect(1px, 1px, 1px, 1px);height: 1px;margin: -1px;overflow: hidden;padding: 0;position: absolute;width: 1px;}#sk-container-id-2 div.sk-estimator {font-family: monospace;background-color: #f0f8ff;border: 1px dotted black;border-radius: 0.25em;box-sizing: border-box;margin-bottom: 0.5em;}#sk-container-id-2 div.sk-estimator:hover {background-color: #d4ebff;}#sk-container-id-2 div.sk-parallel-item::after {content: \"\";width: 100%;border-bottom: 1px solid gray;flex-grow: 1;}#sk-container-id-2 div.sk-label:hover label.sk-toggleable__label {background-color: #d4ebff;}#sk-container-id-2 div.sk-serial::before {content: \"\";position: absolute;border-left: 1px solid gray;box-sizing: border-box;top: 0;bottom: 0;left: 50%;z-index: 0;}#sk-container-id-2 div.sk-serial {display: flex;flex-direction: column;align-items: center;background-color: white;padding-right: 0.2em;padding-left: 0.2em;position: relative;}#sk-container-id-2 div.sk-item {position: relative;z-index: 1;}#sk-container-id-2 div.sk-parallel {display: flex;align-items: stretch;justify-content: center;background-color: white;position: relative;}#sk-container-id-2 div.sk-item::before, #sk-container-id-2 div.sk-parallel-item::before {content: \"\";position: absolute;border-left: 1px solid gray;box-sizing: border-box;top: 0;bottom: 0;left: 50%;z-index: -1;}#sk-container-id-2 div.sk-parallel-item {display: flex;flex-direction: column;z-index: 1;position: relative;background-color: white;}#sk-container-id-2 div.sk-parallel-item:first-child::after {align-self: flex-end;width: 50%;}#sk-container-id-2 div.sk-parallel-item:last-child::after {align-self: flex-start;width: 50%;}#sk-container-id-2 div.sk-parallel-item:only-child::after {width: 0;}#sk-container-id-2 div.sk-dashed-wrapped {border: 1px dashed gray;margin: 0 0.4em 0.5em 0.4em;box-sizing: border-box;padding-bottom: 0.4em;background-color: white;}#sk-container-id-2 div.sk-label label {font-family: monospace;font-weight: bold;display: inline-block;line-height: 1.2em;}#sk-container-id-2 div.sk-label-container {text-align: center;}#sk-container-id-2 div.sk-container {/* jupyter's `normalize.less` sets `[hidden] { display: none; }` but bootstrap.min.css set `[hidden] { display: none !important; }` so we also need the `!important` here to be able to override the default hidden behavior on the sphinx rendered scikit-learn.org. See: https://github.com/scikit-learn/scikit-learn/issues/21755 */display: inline-block !important;position: relative;}#sk-container-id-2 div.sk-text-repr-fallback {display: none;}</style><div id=\"sk-container-id-2\" class=\"sk-top-container\"><div class=\"sk-text-repr-fallback\"><pre>RandomForestClassifier()</pre><b>In a Jupyter environment, please rerun this cell to show the HTML representation or trust the notebook. <br />On GitHub, the HTML representation is unable to render, please try loading this page with nbviewer.org.</b></div><div class=\"sk-container\" hidden><div class=\"sk-item\"><div class=\"sk-estimator sk-toggleable\"><input class=\"sk-toggleable__control sk-hidden--visually\" id=\"sk-estimator-id-2\" type=\"checkbox\" checked><label for=\"sk-estimator-id-2\" class=\"sk-toggleable__label sk-toggleable__label-arrow\">RandomForestClassifier</label><div class=\"sk-toggleable__content\"><pre>RandomForestClassifier()</pre></div></div></div></div></div>"
      ],
      "text/plain": [
       "RandomForestClassifier()"
      ]
     },
     "execution_count": 72,
     "metadata": {},
     "output_type": "execute_result"
    }
   ],
   "source": [
    "from sklearn.ensemble import RandomForestClassifier\n",
    "\n",
    "rfc = RandomForestClassifier()\n",
    "\n",
    "rfc.fit(X_train,Y_train)"
   ]
  },
  {
   "cell_type": "code",
   "execution_count": 73,
   "id": "2799747c",
   "metadata": {
    "execution": {
     "iopub.execute_input": "2025-05-01T05:27:18.208099Z",
     "iopub.status.busy": "2025-05-01T05:27:18.207702Z",
     "iopub.status.idle": "2025-05-01T05:27:18.371745Z",
     "shell.execute_reply": "2025-05-01T05:27:18.370698Z"
    },
    "papermill": {
     "duration": 0.197549,
     "end_time": "2025-05-01T05:27:18.373374",
     "exception": false,
     "start_time": "2025-05-01T05:27:18.175825",
     "status": "completed"
    },
    "tags": []
   },
   "outputs": [
    {
     "data": {
      "text/plain": [
       "0.9506342806568984"
      ]
     },
     "execution_count": 73,
     "metadata": {},
     "output_type": "execute_result"
    }
   ],
   "source": [
    "rfc.score(X_test,Y_test)"
   ]
  },
  {
   "cell_type": "code",
   "execution_count": 74,
   "id": "6d03ebff",
   "metadata": {
    "execution": {
     "iopub.execute_input": "2025-05-01T05:27:18.438173Z",
     "iopub.status.busy": "2025-05-01T05:27:18.437782Z",
     "iopub.status.idle": "2025-05-01T05:27:18.590656Z",
     "shell.execute_reply": "2025-05-01T05:27:18.589916Z"
    },
    "papermill": {
     "duration": 0.187306,
     "end_time": "2025-05-01T05:27:18.592369",
     "exception": false,
     "start_time": "2025-05-01T05:27:18.405063",
     "status": "completed"
    },
    "tags": []
   },
   "outputs": [],
   "source": [
    "y_pred1=rfc.predict(X_test)"
   ]
  },
  {
   "cell_type": "code",
   "execution_count": 75,
   "id": "8ccfb596",
   "metadata": {
    "execution": {
     "iopub.execute_input": "2025-05-01T05:27:18.656041Z",
     "iopub.status.busy": "2025-05-01T05:27:18.655659Z",
     "iopub.status.idle": "2025-05-01T05:27:18.661359Z",
     "shell.execute_reply": "2025-05-01T05:27:18.660562Z"
    },
    "papermill": {
     "duration": 0.039086,
     "end_time": "2025-05-01T05:27:18.662798",
     "exception": false,
     "start_time": "2025-05-01T05:27:18.623712",
     "status": "completed"
    },
    "tags": []
   },
   "outputs": [],
   "source": [
    "asc =accuracy_score(Y_test,y_pred1) "
   ]
  },
  {
   "cell_type": "code",
   "execution_count": 76,
   "id": "49028b82",
   "metadata": {
    "execution": {
     "iopub.execute_input": "2025-05-01T05:27:18.726425Z",
     "iopub.status.busy": "2025-05-01T05:27:18.726102Z",
     "iopub.status.idle": "2025-05-01T05:27:18.731111Z",
     "shell.execute_reply": "2025-05-01T05:27:18.730332Z"
    },
    "papermill": {
     "duration": 0.037848,
     "end_time": "2025-05-01T05:27:18.732452",
     "exception": false,
     "start_time": "2025-05-01T05:27:18.694604",
     "status": "completed"
    },
    "tags": []
   },
   "outputs": [
    {
     "data": {
      "text/plain": [
       "0.9506342806568984"
      ]
     },
     "execution_count": 76,
     "metadata": {},
     "output_type": "execute_result"
    }
   ],
   "source": [
    "asc"
   ]
  },
  {
   "cell_type": "code",
   "execution_count": 77,
   "id": "3ab14c4e",
   "metadata": {
    "execution": {
     "iopub.execute_input": "2025-05-01T05:27:18.795430Z",
     "iopub.status.busy": "2025-05-01T05:27:18.795102Z",
     "iopub.status.idle": "2025-05-01T05:27:18.801724Z",
     "shell.execute_reply": "2025-05-01T05:27:18.801034Z"
    },
    "papermill": {
     "duration": 0.039925,
     "end_time": "2025-05-01T05:27:18.803233",
     "exception": false,
     "start_time": "2025-05-01T05:27:18.763308",
     "status": "completed"
    },
    "tags": []
   },
   "outputs": [],
   "source": [
    "cm1 = confusion_matrix(Y_test,y_pred1)"
   ]
  },
  {
   "cell_type": "code",
   "execution_count": 78,
   "id": "a081785d",
   "metadata": {
    "execution": {
     "iopub.execute_input": "2025-05-01T05:27:18.866663Z",
     "iopub.status.busy": "2025-05-01T05:27:18.866322Z",
     "iopub.status.idle": "2025-05-01T05:27:18.871558Z",
     "shell.execute_reply": "2025-05-01T05:27:18.870671Z"
    },
    "papermill": {
     "duration": 0.03893,
     "end_time": "2025-05-01T05:27:18.873096",
     "exception": false,
     "start_time": "2025-05-01T05:27:18.834166",
     "status": "completed"
    },
    "tags": []
   },
   "outputs": [
    {
     "data": {
      "text/plain": [
       "array([[9227,   49],\n",
       "       [ 453,  440]])"
      ]
     },
     "execution_count": 78,
     "metadata": {},
     "output_type": "execute_result"
    }
   ],
   "source": [
    "cm1"
   ]
  },
  {
   "cell_type": "code",
   "execution_count": 79,
   "id": "b8c1650e",
   "metadata": {
    "execution": {
     "iopub.execute_input": "2025-05-01T05:27:18.936879Z",
     "iopub.status.busy": "2025-05-01T05:27:18.936498Z",
     "iopub.status.idle": "2025-05-01T05:27:34.020099Z",
     "shell.execute_reply": "2025-05-01T05:27:34.019060Z"
    },
    "papermill": {
     "duration": 15.117553,
     "end_time": "2025-05-01T05:27:34.021914",
     "exception": false,
     "start_time": "2025-05-01T05:27:18.904361",
     "status": "completed"
    },
    "tags": []
   },
   "outputs": [],
   "source": [
    "from sklearn.model_selection import cross_val_score, StratifiedKFold\n",
    "\n",
    "cv1 = StratifiedKFold(n_splits=5, shuffle=True, random_state=42)\n",
    "cross_val_results1 = cross_val_score(RandomForestClassifier(), X, Y, cv=cv1)"
   ]
  },
  {
   "cell_type": "code",
   "execution_count": 80,
   "id": "348efa23",
   "metadata": {
    "execution": {
     "iopub.execute_input": "2025-05-01T05:27:34.086582Z",
     "iopub.status.busy": "2025-05-01T05:27:34.086246Z",
     "iopub.status.idle": "2025-05-01T05:27:34.091826Z",
     "shell.execute_reply": "2025-05-01T05:27:34.090918Z"
    },
    "papermill": {
     "duration": 0.03973,
     "end_time": "2025-05-01T05:27:34.093427",
     "exception": false,
     "start_time": "2025-05-01T05:27:34.053697",
     "status": "completed"
    },
    "tags": []
   },
   "outputs": [
    {
     "data": {
      "text/plain": [
       "array([0.95446947, 0.95013769, 0.95033438, 0.95053108, 0.9540716 ])"
      ]
     },
     "execution_count": 80,
     "metadata": {},
     "output_type": "execute_result"
    }
   ],
   "source": [
    "cross_val_results1"
   ]
  },
  {
   "cell_type": "code",
   "execution_count": 81,
   "id": "4c44df5b",
   "metadata": {
    "execution": {
     "iopub.execute_input": "2025-05-01T05:27:34.157609Z",
     "iopub.status.busy": "2025-05-01T05:27:34.157253Z",
     "iopub.status.idle": "2025-05-01T05:27:34.180016Z",
     "shell.execute_reply": "2025-05-01T05:27:34.179030Z"
    },
    "papermill": {
     "duration": 0.056708,
     "end_time": "2025-05-01T05:27:34.181675",
     "exception": false,
     "start_time": "2025-05-01T05:27:34.124967",
     "status": "completed"
    },
    "tags": []
   },
   "outputs": [
    {
     "name": "stdout",
     "output_type": "stream",
     "text": [
      "Decision Tree Train:  0.9993853265145555\n",
      "Decision Tree Test:  0.9212311928409873\n"
     ]
    }
   ],
   "source": [
    "print(\"Decision Tree Train: \",dtc.score(X_train,Y_train))\n",
    "print(\"Decision Tree Test: \",dtc.score(X_test,Y_test))"
   ]
  },
  {
   "cell_type": "code",
   "execution_count": 82,
   "id": "f3f67da3",
   "metadata": {
    "execution": {
     "iopub.execute_input": "2025-05-01T05:27:34.246759Z",
     "iopub.status.busy": "2025-05-01T05:27:34.246424Z",
     "iopub.status.idle": "2025-05-01T05:27:34.948460Z",
     "shell.execute_reply": "2025-05-01T05:27:34.947439Z"
    },
    "papermill": {
     "duration": 0.736092,
     "end_time": "2025-05-01T05:27:34.950114",
     "exception": false,
     "start_time": "2025-05-01T05:27:34.214022",
     "status": "completed"
    },
    "tags": []
   },
   "outputs": [
    {
     "name": "stdout",
     "output_type": "stream",
     "text": [
      "Random Forest Train:  0.9993853265145555\n",
      "Random Forest  Test:  0.9506342806568984\n"
     ]
    }
   ],
   "source": [
    "print(\"Random Forest Train: \",rfc.score(X_train,Y_train))\n",
    "print(\"Random Forest  Test: \",rfc.score(X_test,Y_test))"
   ]
  },
  {
   "cell_type": "code",
   "execution_count": 83,
   "id": "744fadf5",
   "metadata": {
    "execution": {
     "iopub.execute_input": "2025-05-01T05:27:35.014069Z",
     "iopub.status.busy": "2025-05-01T05:27:35.013687Z",
     "iopub.status.idle": "2025-05-01T05:27:35.017330Z",
     "shell.execute_reply": "2025-05-01T05:27:35.016593Z"
    },
    "papermill": {
     "duration": 0.037111,
     "end_time": "2025-05-01T05:27:35.018670",
     "exception": false,
     "start_time": "2025-05-01T05:27:34.981559",
     "status": "completed"
    },
    "tags": []
   },
   "outputs": [],
   "source": [
    "from sklearn.svm import SVC\n",
    "from sklearn.linear_model import LogisticRegression"
   ]
  },
  {
   "cell_type": "code",
   "execution_count": 84,
   "id": "09d97bf2",
   "metadata": {
    "execution": {
     "iopub.execute_input": "2025-05-01T05:27:35.083876Z",
     "iopub.status.busy": "2025-05-01T05:27:35.083517Z",
     "iopub.status.idle": "2025-05-01T05:27:35.088217Z",
     "shell.execute_reply": "2025-05-01T05:27:35.087383Z"
    },
    "papermill": {
     "duration": 0.0392,
     "end_time": "2025-05-01T05:27:35.089659",
     "exception": false,
     "start_time": "2025-05-01T05:27:35.050459",
     "status": "completed"
    },
    "tags": []
   },
   "outputs": [],
   "source": [
    "model_param = {\n",
    "    'svm': {\n",
    "        'model': SVC(),\n",
    "        'param': {\n",
    "            'kernel': ['rbf']\n",
    "        }\n",
    "    },\n",
    "    'logistic_regression': {\n",
    "        'model': LogisticRegression(),\n",
    "        'param': {\n",
    "        }\n",
    "    },\n",
    "    'random_forest': {\n",
    "        'model': RandomForestClassifier(),\n",
    "        'param': {\n",
    "                'n_estimators': [10, 50, 200, 300]\n",
    "        }\n",
    "    },\n",
    "    'decision_tree':{\n",
    "        'model': DecisionTreeClassifier(),\n",
    "        'param': {\n",
    "            'max_depth': [None, 3, 5, 10] \n",
    "        } \n",
    "    }\n",
    "}"
   ]
  },
  {
   "cell_type": "code",
   "execution_count": 85,
   "id": "011f1269",
   "metadata": {
    "execution": {
     "iopub.execute_input": "2025-05-01T05:27:35.153729Z",
     "iopub.status.busy": "2025-05-01T05:27:35.153410Z",
     "iopub.status.idle": "2025-05-01T05:27:35.157092Z",
     "shell.execute_reply": "2025-05-01T05:27:35.156300Z"
    },
    "papermill": {
     "duration": 0.037471,
     "end_time": "2025-05-01T05:27:35.158507",
     "exception": false,
     "start_time": "2025-05-01T05:27:35.121036",
     "status": "completed"
    },
    "tags": []
   },
   "outputs": [],
   "source": [
    "cv = StratifiedKFold(n_splits=5, shuffle=True, random_state=42)"
   ]
  },
  {
   "cell_type": "code",
   "execution_count": 86,
   "id": "3933e30b",
   "metadata": {
    "execution": {
     "iopub.execute_input": "2025-05-01T05:27:35.222651Z",
     "iopub.status.busy": "2025-05-01T05:27:35.222338Z",
     "iopub.status.idle": "2025-05-01T05:27:35.225879Z",
     "shell.execute_reply": "2025-05-01T05:27:35.225116Z"
    },
    "papermill": {
     "duration": 0.037198,
     "end_time": "2025-05-01T05:27:35.227346",
     "exception": false,
     "start_time": "2025-05-01T05:27:35.190148",
     "status": "completed"
    },
    "tags": []
   },
   "outputs": [],
   "source": [
    "from sklearn.model_selection import GridSearchCV"
   ]
  },
  {
   "cell_type": "code",
   "execution_count": 87,
   "id": "95f7bb54",
   "metadata": {
    "execution": {
     "iopub.execute_input": "2025-05-01T05:27:35.291961Z",
     "iopub.status.busy": "2025-05-01T05:27:35.291522Z",
     "iopub.status.idle": "2025-05-01T05:31:05.243651Z",
     "shell.execute_reply": "2025-05-01T05:31:05.242877Z"
    },
    "papermill": {
     "duration": 209.98671,
     "end_time": "2025-05-01T05:31:05.245647",
     "exception": false,
     "start_time": "2025-05-01T05:27:35.258937",
     "status": "completed"
    },
    "tags": []
   },
   "outputs": [
    {
     "name": "stderr",
     "output_type": "stream",
     "text": [
      "/usr/local/lib/python3.10/dist-packages/sklearn/linear_model/_logistic.py:458: ConvergenceWarning: lbfgs failed to converge (status=1):\n",
      "STOP: TOTAL NO. of ITERATIONS REACHED LIMIT.\n",
      "\n",
      "Increase the number of iterations (max_iter) or scale the data as shown in:\n",
      "    https://scikit-learn.org/stable/modules/preprocessing.html\n",
      "Please also refer to the documentation for alternative solver options:\n",
      "    https://scikit-learn.org/stable/modules/linear_model.html#logistic-regression\n",
      "  n_iter_i = _check_optimize_result(\n",
      "/usr/local/lib/python3.10/dist-packages/sklearn/linear_model/_logistic.py:458: ConvergenceWarning: lbfgs failed to converge (status=1):\n",
      "STOP: TOTAL NO. of ITERATIONS REACHED LIMIT.\n",
      "\n",
      "Increase the number of iterations (max_iter) or scale the data as shown in:\n",
      "    https://scikit-learn.org/stable/modules/preprocessing.html\n",
      "Please also refer to the documentation for alternative solver options:\n",
      "    https://scikit-learn.org/stable/modules/linear_model.html#logistic-regression\n",
      "  n_iter_i = _check_optimize_result(\n",
      "/usr/local/lib/python3.10/dist-packages/sklearn/linear_model/_logistic.py:458: ConvergenceWarning: lbfgs failed to converge (status=1):\n",
      "STOP: TOTAL NO. of ITERATIONS REACHED LIMIT.\n",
      "\n",
      "Increase the number of iterations (max_iter) or scale the data as shown in:\n",
      "    https://scikit-learn.org/stable/modules/preprocessing.html\n",
      "Please also refer to the documentation for alternative solver options:\n",
      "    https://scikit-learn.org/stable/modules/linear_model.html#logistic-regression\n",
      "  n_iter_i = _check_optimize_result(\n",
      "/usr/local/lib/python3.10/dist-packages/sklearn/linear_model/_logistic.py:458: ConvergenceWarning: lbfgs failed to converge (status=1):\n",
      "STOP: TOTAL NO. of ITERATIONS REACHED LIMIT.\n",
      "\n",
      "Increase the number of iterations (max_iter) or scale the data as shown in:\n",
      "    https://scikit-learn.org/stable/modules/preprocessing.html\n",
      "Please also refer to the documentation for alternative solver options:\n",
      "    https://scikit-learn.org/stable/modules/linear_model.html#logistic-regression\n",
      "  n_iter_i = _check_optimize_result(\n",
      "/usr/local/lib/python3.10/dist-packages/sklearn/linear_model/_logistic.py:458: ConvergenceWarning: lbfgs failed to converge (status=1):\n",
      "STOP: TOTAL NO. of ITERATIONS REACHED LIMIT.\n",
      "\n",
      "Increase the number of iterations (max_iter) or scale the data as shown in:\n",
      "    https://scikit-learn.org/stable/modules/preprocessing.html\n",
      "Please also refer to the documentation for alternative solver options:\n",
      "    https://scikit-learn.org/stable/modules/linear_model.html#logistic-regression\n",
      "  n_iter_i = _check_optimize_result(\n",
      "/usr/local/lib/python3.10/dist-packages/sklearn/linear_model/_logistic.py:458: ConvergenceWarning: lbfgs failed to converge (status=1):\n",
      "STOP: TOTAL NO. of ITERATIONS REACHED LIMIT.\n",
      "\n",
      "Increase the number of iterations (max_iter) or scale the data as shown in:\n",
      "    https://scikit-learn.org/stable/modules/preprocessing.html\n",
      "Please also refer to the documentation for alternative solver options:\n",
      "    https://scikit-learn.org/stable/modules/linear_model.html#logistic-regression\n",
      "  n_iter_i = _check_optimize_result(\n"
     ]
    }
   ],
   "source": [
    "scores = []\n",
    "\n",
    "\n",
    "for name, p in model_param.items():\n",
    "    gscv = GridSearchCV(p['model'],p['param'],cv=cv,return_train_score=False)\n",
    "    gscv.fit(X,Y)\n",
    "    scores.append({\n",
    "        'model': name,\n",
    "        'best_score': gscv.best_score_,\n",
    "        'best_params': gscv.best_params_\n",
    "    })"
   ]
  },
  {
   "cell_type": "code",
   "execution_count": 88,
   "id": "779aaa92",
   "metadata": {
    "execution": {
     "iopub.execute_input": "2025-05-01T05:31:05.311980Z",
     "iopub.status.busy": "2025-05-01T05:31:05.311542Z",
     "iopub.status.idle": "2025-05-01T05:31:05.322764Z",
     "shell.execute_reply": "2025-05-01T05:31:05.321881Z"
    },
    "papermill": {
     "duration": 0.045686,
     "end_time": "2025-05-01T05:31:05.324335",
     "exception": false,
     "start_time": "2025-05-01T05:31:05.278649",
     "status": "completed"
    },
    "tags": []
   },
   "outputs": [
    {
     "data": {
      "text/html": [
       "<div>\n",
       "<style scoped>\n",
       "    .dataframe tbody tr th:only-of-type {\n",
       "        vertical-align: middle;\n",
       "    }\n",
       "\n",
       "    .dataframe tbody tr th {\n",
       "        vertical-align: top;\n",
       "    }\n",
       "\n",
       "    .dataframe thead th {\n",
       "        text-align: right;\n",
       "    }\n",
       "</style>\n",
       "<table border=\"1\" class=\"dataframe\">\n",
       "  <thead>\n",
       "    <tr style=\"text-align: right;\">\n",
       "      <th></th>\n",
       "      <th>model</th>\n",
       "      <th>best_score</th>\n",
       "      <th>best_params</th>\n",
       "    </tr>\n",
       "  </thead>\n",
       "  <tbody>\n",
       "    <tr>\n",
       "      <th>0</th>\n",
       "      <td>svm</td>\n",
       "      <td>0.923428</td>\n",
       "      <td>{'kernel': 'rbf'}</td>\n",
       "    </tr>\n",
       "    <tr>\n",
       "      <th>1</th>\n",
       "      <td>logistic_regression</td>\n",
       "      <td>0.928266</td>\n",
       "      <td>{}</td>\n",
       "    </tr>\n",
       "    <tr>\n",
       "      <th>2</th>\n",
       "      <td>random_forest</td>\n",
       "      <td>0.952165</td>\n",
       "      <td>{'n_estimators': 200}</td>\n",
       "    </tr>\n",
       "    <tr>\n",
       "      <th>3</th>\n",
       "      <td>decision_tree</td>\n",
       "      <td>0.954466</td>\n",
       "      <td>{'max_depth': 3}</td>\n",
       "    </tr>\n",
       "  </tbody>\n",
       "</table>\n",
       "</div>"
      ],
      "text/plain": [
       "                 model  best_score            best_params\n",
       "0                  svm    0.923428      {'kernel': 'rbf'}\n",
       "1  logistic_regression    0.928266                     {}\n",
       "2        random_forest    0.952165  {'n_estimators': 200}\n",
       "3        decision_tree    0.954466       {'max_depth': 3}"
      ]
     },
     "execution_count": 88,
     "metadata": {},
     "output_type": "execute_result"
    }
   ],
   "source": [
    "output = pd.DataFrame(scores,columns=['model','best_score','best_params'])\n",
    "output"
   ]
  },
  {
   "cell_type": "code",
   "execution_count": 89,
   "id": "ab67f887",
   "metadata": {
    "execution": {
     "iopub.execute_input": "2025-05-01T05:31:05.390110Z",
     "iopub.status.busy": "2025-05-01T05:31:05.389707Z",
     "iopub.status.idle": "2025-05-01T05:31:05.393558Z",
     "shell.execute_reply": "2025-05-01T05:31:05.392645Z"
    },
    "papermill": {
     "duration": 0.038175,
     "end_time": "2025-05-01T05:31:05.395242",
     "exception": false,
     "start_time": "2025-05-01T05:31:05.357067",
     "status": "completed"
    },
    "tags": []
   },
   "outputs": [],
   "source": [
    "# age\t\n",
    "# hypertension\t\n",
    "# heart_disease\t\n",
    "# bmi\t\n",
    "# HbA1c_level\t\n",
    "# blood_glucose_level\t\n",
    "# diabetes\t\n",
    "# gender_Male\t\n",
    "# smoking_history_ever\t\n",
    "# smoking_history_former\t\n",
    "# smoking_history_never\t\n",
    "# smoking_history_not current\n",
    "\n",
    "# gender\t\n",
    "# age\t\n",
    "# hypertension\t\n",
    "# heart_disease\t\n",
    "# smoking_history\t\n",
    "# bmi\t\n",
    "# HbA1c_level\t\n",
    "# blood_glucose_level\t\n",
    "# diabetes"
   ]
  },
  {
   "cell_type": "code",
   "execution_count": 90,
   "id": "089ea0ea",
   "metadata": {
    "execution": {
     "iopub.execute_input": "2025-05-01T05:31:05.461851Z",
     "iopub.status.busy": "2025-05-01T05:31:05.461471Z",
     "iopub.status.idle": "2025-05-01T05:31:05.465375Z",
     "shell.execute_reply": "2025-05-01T05:31:05.464479Z"
    },
    "papermill": {
     "duration": 0.039464,
     "end_time": "2025-05-01T05:31:05.466960",
     "exception": false,
     "start_time": "2025-05-01T05:31:05.427496",
     "status": "completed"
    },
    "tags": []
   },
   "outputs": [],
   "source": [
    "final_columns = list(X_train.columns)"
   ]
  },
  {
   "cell_type": "code",
   "execution_count": 91,
   "id": "1b2101db",
   "metadata": {
    "execution": {
     "iopub.execute_input": "2025-05-01T05:31:05.532928Z",
     "iopub.status.busy": "2025-05-01T05:31:05.532538Z",
     "iopub.status.idle": "2025-05-01T05:31:05.537874Z",
     "shell.execute_reply": "2025-05-01T05:31:05.536996Z"
    },
    "papermill": {
     "duration": 0.039865,
     "end_time": "2025-05-01T05:31:05.539367",
     "exception": false,
     "start_time": "2025-05-01T05:31:05.499502",
     "status": "completed"
    },
    "tags": []
   },
   "outputs": [
    {
     "data": {
      "text/plain": [
       "['age',\n",
       " 'hypertension',\n",
       " 'heart_disease',\n",
       " 'bmi',\n",
       " 'HbA1c_level',\n",
       " 'blood_glucose_level',\n",
       " 'gender_Male',\n",
       " 'smoking_history_ever',\n",
       " 'smoking_history_former',\n",
       " 'smoking_history_never',\n",
       " 'smoking_history_not current']"
      ]
     },
     "execution_count": 91,
     "metadata": {},
     "output_type": "execute_result"
    }
   ],
   "source": [
    "final_columns"
   ]
  },
  {
   "cell_type": "code",
   "execution_count": 92,
   "id": "f0b8653e",
   "metadata": {
    "execution": {
     "iopub.execute_input": "2025-05-01T05:31:05.605933Z",
     "iopub.status.busy": "2025-05-01T05:31:05.605538Z",
     "iopub.status.idle": "2025-05-01T05:31:05.612182Z",
     "shell.execute_reply": "2025-05-01T05:31:05.611266Z"
    },
    "papermill": {
     "duration": 0.041844,
     "end_time": "2025-05-01T05:31:05.613631",
     "exception": false,
     "start_time": "2025-05-01T05:31:05.571787",
     "status": "completed"
    },
    "tags": []
   },
   "outputs": [],
   "source": [
    "def predict_diabetes(age,ht,hd,bmi,hb,bgl,gender,smoking):\n",
    "    input_vector = np.zeros(len(final_columns))\n",
    "\n",
    "    col_index_map = {col: idx for idx, col in enumerate(final_columns)}\n",
    "\n",
    "    if 'age' in col_index_map:\n",
    "        input_vector[col_index_map['age']] = age\n",
    "    if 'hypertension' in col_index_map:\n",
    "        input_vector[col_index_map['hypertension']] = ht\n",
    "    if 'heart_disease' in col_index_map:\n",
    "        input_vector[col_index_map['heart_disease']] = hd\n",
    "    if 'bmi' in col_index_map:\n",
    "        input_vector[col_index_map['bmi']] = bmi\n",
    "    if 'HbA1c_level' in col_index_map:\n",
    "        input_vector[col_index_map['HbA1c_level']] = hb\n",
    "    if 'blood_glucose_level' in col_index_map:\n",
    "        input_vector[col_index_map['blood_glucose_level']] = bgl\n",
    "\n",
    "    gender_col = f'gender_{gender}'\n",
    "    if gender_col in col_index_map:\n",
    "        input_vector[col_index_map[gender_col]] = 1\n",
    "\n",
    "    smoking_history = f'smoking_history_{smoking}'\n",
    "    if smoking_history in col_index_map:\n",
    "        input_vector[col_index_map[smoking_history]] = 1\n",
    "\n",
    "    input_df = pd.DataFrame([input_vector], columns=final_columns)\n",
    " \n",
    "    return rfc.predict(input_df)[0]"
   ]
  },
  {
   "cell_type": "code",
   "execution_count": 93,
   "id": "c3619470",
   "metadata": {
    "execution": {
     "iopub.execute_input": "2025-05-01T05:31:05.679231Z",
     "iopub.status.busy": "2025-05-01T05:31:05.678732Z",
     "iopub.status.idle": "2025-05-01T05:31:05.695915Z",
     "shell.execute_reply": "2025-05-01T05:31:05.694966Z"
    },
    "papermill": {
     "duration": 0.051509,
     "end_time": "2025-05-01T05:31:05.697497",
     "exception": false,
     "start_time": "2025-05-01T05:31:05.645988",
     "status": "completed"
    },
    "tags": []
   },
   "outputs": [
    {
     "data": {
      "text/plain": [
       "0"
      ]
     },
     "execution_count": 93,
     "metadata": {},
     "output_type": "execute_result"
    }
   ],
   "source": [
    "predict_diabetes(80.0,0,0,31.39,5.7,100,'Male','not current')"
   ]
  },
  {
   "cell_type": "code",
   "execution_count": 94,
   "id": "49139e33",
   "metadata": {
    "execution": {
     "iopub.execute_input": "2025-05-01T05:31:05.764486Z",
     "iopub.status.busy": "2025-05-01T05:31:05.764107Z",
     "iopub.status.idle": "2025-05-01T05:31:05.780501Z",
     "shell.execute_reply": "2025-05-01T05:31:05.779525Z"
    },
    "papermill": {
     "duration": 0.051147,
     "end_time": "2025-05-01T05:31:05.781996",
     "exception": false,
     "start_time": "2025-05-01T05:31:05.730849",
     "status": "completed"
    },
    "tags": []
   },
   "outputs": [
    {
     "data": {
      "text/plain": [
       "0"
      ]
     },
     "execution_count": 94,
     "metadata": {},
     "output_type": "execute_result"
    }
   ],
   "source": [
    "predict_diabetes(30.0,0,0,37.87,5.0,145,'Female','never')"
   ]
  },
  {
   "cell_type": "code",
   "execution_count": 95,
   "id": "6d7ce446",
   "metadata": {
    "execution": {
     "iopub.execute_input": "2025-05-01T05:31:05.848752Z",
     "iopub.status.busy": "2025-05-01T05:31:05.848305Z",
     "iopub.status.idle": "2025-05-01T05:31:05.861875Z",
     "shell.execute_reply": "2025-05-01T05:31:05.860958Z"
    },
    "papermill": {
     "duration": 0.048719,
     "end_time": "2025-05-01T05:31:05.863392",
     "exception": false,
     "start_time": "2025-05-01T05:31:05.814673",
     "status": "completed"
    },
    "tags": []
   },
   "outputs": [
    {
     "data": {
      "text/plain": [
       "1"
      ]
     },
     "execution_count": 95,
     "metadata": {},
     "output_type": "execute_result"
    }
   ],
   "source": [
    "predict_diabetes(52.0,0,0,30.17,7.5,126,'Male','current')"
   ]
  },
  {
   "cell_type": "code",
   "execution_count": 96,
   "id": "841105e3",
   "metadata": {
    "execution": {
     "iopub.execute_input": "2025-05-01T05:31:05.930128Z",
     "iopub.status.busy": "2025-05-01T05:31:05.929735Z",
     "iopub.status.idle": "2025-05-01T05:31:06.261018Z",
     "shell.execute_reply": "2025-05-01T05:31:06.260080Z"
    },
    "papermill": {
     "duration": 0.366666,
     "end_time": "2025-05-01T05:31:06.262726",
     "exception": false,
     "start_time": "2025-05-01T05:31:05.896060",
     "status": "completed"
    },
    "tags": []
   },
   "outputs": [
    {
     "data": {
      "text/plain": [
       "Text(0.5, 1.0, 'Top feature_importance')"
      ]
     },
     "execution_count": 96,
     "metadata": {},
     "output_type": "execute_result"
    },
    {
     "data": {
      "image/png": "[encoded data removed]",
      "text/plain": [
       "<Figure size 1000x600 with 1 Axes>"
      ]
     },
     "metadata": {},
     "output_type": "display_data"
    }
   ],
   "source": [
    "feature_importance = pd.Series(rfc.feature_importances_,index=final_columns)\n",
    "top_n=20\n",
    "feature_importance.sort_values(ascending=True).tail(top_n).plot(kind='barh',figsize=(10,6))\n",
    "plt.title(\"Top feature_importance\")"
   ]
  },
  {
   "cell_type": "code",
   "execution_count": 97,
   "id": "87144b04",
   "metadata": {
    "execution": {
     "iopub.execute_input": "2025-05-01T05:31:06.331155Z",
     "iopub.status.busy": "2025-05-01T05:31:06.330765Z",
     "iopub.status.idle": "2025-05-01T05:31:06.373239Z",
     "shell.execute_reply": "2025-05-01T05:31:06.372328Z"
    },
    "papermill": {
     "duration": 0.078646,
     "end_time": "2025-05-01T05:31:06.375080",
     "exception": false,
     "start_time": "2025-05-01T05:31:06.296434",
     "status": "completed"
    },
    "tags": []
   },
   "outputs": [],
   "source": [
    "import pickle\n",
    "with open('DCM.pickle','wb') as f:\n",
    "    pickle.dump(rfc,f)"
   ]
  },
  {
   "cell_type": "code",
   "execution_count": 98,
   "id": "7766c89c",
   "metadata": {
    "execution": {
     "iopub.execute_input": "2025-05-01T05:31:06.444286Z",
     "iopub.status.busy": "2025-05-01T05:31:06.443917Z",
     "iopub.status.idle": "2025-05-01T05:31:06.449408Z",
     "shell.execute_reply": "2025-05-01T05:31:06.448388Z"
    },
    "papermill": {
     "duration": 0.041431,
     "end_time": "2025-05-01T05:31:06.450918",
     "exception": false,
     "start_time": "2025-05-01T05:31:06.409487",
     "status": "completed"
    },
    "tags": []
   },
   "outputs": [
    {
     "data": {
      "text/plain": [
       "'1.2.2'"
      ]
     },
     "execution_count": 98,
     "metadata": {},
     "output_type": "execute_result"
    }
   ],
   "source": [
    "import sklearn\n",
    "sklearn.__version__"
   ]
  },
  {
   "cell_type": "code",
   "execution_count": 99,
   "id": "fda8c2dc",
   "metadata": {
    "execution": {
     "iopub.execute_input": "2025-05-01T05:31:06.519019Z",
     "iopub.status.busy": "2025-05-01T05:31:06.518603Z",
     "iopub.status.idle": "2025-05-01T05:31:06.523364Z",
     "shell.execute_reply": "2025-05-01T05:31:06.522590Z"
    },
    "papermill": {
     "duration": 0.040404,
     "end_time": "2025-05-01T05:31:06.524813",
     "exception": false,
     "start_time": "2025-05-01T05:31:06.484409",
     "status": "completed"
    },
    "tags": []
   },
   "outputs": [],
   "source": [
    "import json\n",
    "columns = { 'data_columns' : [col for col in X.columns] }\n",
    "with open('columns.json','w') as f:\n",
    "    f.write(json.dumps(columns))"
   ]
  },
  {
   "cell_type": "code",
   "execution_count": null,
   "id": "873a00ec",
   "metadata": {
    "papermill": {
     "duration": 0.033947,
     "end_time": "2025-05-01T05:31:06.593361",
     "exception": false,
     "start_time": "2025-05-01T05:31:06.559414",
     "status": "completed"
    },
    "tags": []
   },
   "outputs": [],
   "source": []
  }
 ],
 "metadata": {
  "kaggle": {
   "accelerator": "none",
   "dataSources": [
    {
     "datasetId": 3102947,
     "sourceId": 5344155,
     "sourceType": "datasetVersion"
    }
   ],
   "dockerImageVersionId": 30918,
   "isGpuEnabled": false,
   "isInternetEnabled": true,
   "language": "python",
   "sourceType": "notebook"
  },
  "kernelspec": {
   "display_name": "Python 3",
   "language": "python",
   "name": "python3"
  },
  "language_info": {
   "codemirror_mode": {
    "name": "ipython",
    "version": 3
   },
   "file_extension": ".py",
   "mimetype": "text/x-python",
   "name": "python",
   "nbconvert_exporter": "python",
   "pygments_lexer": "ipython3",
   "version": "3.10.12"
  },
  "papermill": {
   "default_parameters": {},
   "duration": 249.99912,
   "end_time": "2025-05-01T05:31:07.448240",
   "environment_variables": {},
   "exception": null,
   "input_path": "__notebook__.ipynb",
   "output_path": "__notebook__.ipynb",
   "parameters": {},
   "start_time": "2025-05-01T05:26:57.449120",
   "version": "2.6.0"
  }
 },
 "nbformat": 4,
 "nbformat_minor": 5
}
